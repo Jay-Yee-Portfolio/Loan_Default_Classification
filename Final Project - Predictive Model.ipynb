{
 "cells": [
  {
   "cell_type": "code",
   "execution_count": null,
   "id": "b5b44373",
   "metadata": {},
   "outputs": [],
   "source": [
    "conda install -c conda-forge imbalanced-learn"
   ]
  },
  {
   "cell_type": "code",
   "execution_count": 243,
   "id": "3db06b85",
   "metadata": {},
   "outputs": [
    {
     "name": "stdout",
     "output_type": "stream",
     "text": [
      "Collecting xgboost\n",
      "  Downloading xgboost-1.5.2-py3-none-win_amd64.whl (106.6 MB)\n",
      "Requirement already satisfied: numpy in c:\\users\\jayju\\anaconda3\\lib\\site-packages (from xgboost) (1.20.1)\n",
      "Requirement already satisfied: scipy in c:\\users\\jayju\\anaconda3\\lib\\site-packages (from xgboost) (1.6.2)\n",
      "Installing collected packages: xgboost\n",
      "Successfully installed xgboost-1.5.2\n",
      "Note: you may need to restart the kernel to use updated packages.\n"
     ]
    }
   ],
   "source": [
    "pip install xgboost"
   ]
  },
  {
   "cell_type": "code",
   "execution_count": 1342,
   "id": "52b1a9b0",
   "metadata": {},
   "outputs": [],
   "source": [
    "import pandas as pd\n",
    "import seaborn as sns\n",
    "import numpy as np\n",
    "import matplotlib.pyplot as plt\n",
    "from sklearn.model_selection import train_test_split\n",
    "from sklearn.metrics import classification_report\n",
    "import imblearn\n",
    "from collections import Counter"
   ]
  },
  {
   "cell_type": "code",
   "execution_count": 1295,
   "id": "0aeb667f",
   "metadata": {},
   "outputs": [],
   "source": [
    "df = pd.read_csv('Data v2.csv')"
   ]
  },
  {
   "cell_type": "code",
   "execution_count": 1505,
   "id": "eb639884",
   "metadata": {
    "scrolled": false
   },
   "outputs": [
    {
     "name": "stdout",
     "output_type": "stream",
     "text": [
      "<class 'pandas.core.frame.DataFrame'>\n",
      "RangeIndex: 844351 entries, 0 to 844350\n",
      "Data columns (total 23 columns):\n",
      " #   Column                Non-Null Count   Dtype  \n",
      "---  ------                --------------   -----  \n",
      " 0   acc_open_past_24mths  844351 non-null  int64  \n",
      " 1   addr_state            844351 non-null  object \n",
      " 2   annual_inc            844351 non-null  float64\n",
      " 3   application_type      844351 non-null  object \n",
      " 4   avg_cur_bal           844351 non-null  int64  \n",
      " 5   emp_length            844351 non-null  int64  \n",
      " 6   dti                   844351 non-null  float64\n",
      " 7   grade                 844351 non-null  int64  \n",
      " 8   home_ownership        844351 non-null  int64  \n",
      " 9   il_util               844351 non-null  float64\n",
      " 10  inq_fi                844351 non-null  float64\n",
      " 11  inq_last_12m          844351 non-null  float64\n",
      " 12  int_rate              844351 non-null  float64\n",
      " 13  installment           844351 non-null  float64\n",
      " 14  issue_d               844351 non-null  object \n",
      " 15  loan_status           844351 non-null  int64  \n",
      " 16  loan_amnt             844351 non-null  int64  \n",
      " 17  open_acc              844351 non-null  int64  \n",
      " 18  revol_bal             844351 non-null  int64  \n",
      " 19  revol_util            844351 non-null  float64\n",
      " 20  term                  844351 non-null  int64  \n",
      " 21  total_acc             844351 non-null  int64  \n",
      " 22  verification_status   844351 non-null  object \n",
      "dtypes: float64(8), int64(11), object(4)\n",
      "memory usage: 148.2+ MB\n"
     ]
    }
   ],
   "source": [
    "#Full list of features for data sinfo(et\n",
    "df.info()"
   ]
  },
  {
   "cell_type": "code",
   "execution_count": 1297,
   "id": "b945480d",
   "metadata": {},
   "outputs": [
    {
     "data": {
      "text/plain": [
       "1    800173\n",
       "0     44178\n",
       "Name: loan_status, dtype: int64"
      ]
     },
     "execution_count": 1297,
     "metadata": {},
     "output_type": "execute_result"
    }
   ],
   "source": [
    "df.loan_status.value_counts()"
   ]
  },
  {
   "cell_type": "code",
   "execution_count": 1298,
   "id": "2c18a622",
   "metadata": {},
   "outputs": [],
   "source": [
    "#Dropping features that showed high multicollinearity\n",
    "dataset=df.drop(['addr_state' , 'application_type' , 'verification_status' , 'issue_d'] , axis = 1)"
   ]
  },
  {
   "cell_type": "code",
   "execution_count": 1506,
   "id": "28f94aee",
   "metadata": {},
   "outputs": [
    {
     "name": "stdout",
     "output_type": "stream",
     "text": [
      "<class 'pandas.core.frame.DataFrame'>\n",
      "RangeIndex: 844351 entries, 0 to 844350\n",
      "Data columns (total 19 columns):\n",
      " #   Column                Non-Null Count   Dtype  \n",
      "---  ------                --------------   -----  \n",
      " 0   acc_open_past_24mths  844351 non-null  int64  \n",
      " 1   annual_inc            844351 non-null  float64\n",
      " 2   avg_cur_bal           844351 non-null  int64  \n",
      " 3   emp_length            844351 non-null  int64  \n",
      " 4   dti                   844351 non-null  float64\n",
      " 5   grade                 844351 non-null  int64  \n",
      " 6   home_ownership        844351 non-null  int64  \n",
      " 7   il_util               844351 non-null  float64\n",
      " 8   inq_fi                844351 non-null  float64\n",
      " 9   inq_last_12m          844351 non-null  float64\n",
      " 10  int_rate              844351 non-null  float64\n",
      " 11  installment           844351 non-null  float64\n",
      " 12  loan_status           844351 non-null  int64  \n",
      " 13  loan_amnt             844351 non-null  int64  \n",
      " 14  open_acc              844351 non-null  int64  \n",
      " 15  revol_bal             844351 non-null  int64  \n",
      " 16  revol_util            844351 non-null  float64\n",
      " 17  term                  844351 non-null  int64  \n",
      " 18  total_acc             844351 non-null  int64  \n",
      "dtypes: float64(8), int64(11)\n",
      "memory usage: 122.4 MB\n"
     ]
    }
   ],
   "source": [
    "dataset.info()"
   ]
  },
  {
   "cell_type": "code",
   "execution_count": 1363,
   "id": "2f93cec9",
   "metadata": {},
   "outputs": [],
   "source": [
    "X=dataset.drop(['loan_status'] , axis = 1)\n",
    "y=dataset['loan_status']"
   ]
  },
  {
   "cell_type": "markdown",
   "id": "1e69b73a",
   "metadata": {},
   "source": [
    "### Undersample Dataset"
   ]
  },
  {
   "cell_type": "code",
   "execution_count": 1301,
   "id": "af279d82",
   "metadata": {},
   "outputs": [],
   "source": [
    "from sklearn.datasets import make_classification\n",
    "import imblearn.under_sampling "
   ]
  },
  {
   "cell_type": "code",
   "execution_count": 1302,
   "id": "cedbdf74",
   "metadata": {},
   "outputs": [],
   "source": [
    "#Split data into 3 sets: 60% train, 20% validation, 20% test\n",
    "\n",
    "X_train, X_test, y_train, y_test = train_test_split(X, y, test_size=0.2, random_state=7)\n",
    "X_train, X_val, y_train, y_val = train_test_split(X_train, y_train, test_size=0.25, random_state=11) "
   ]
  },
  {
   "cell_type": "code",
   "execution_count": 1185,
   "id": "e2ba3604",
   "metadata": {},
   "outputs": [
    {
     "data": {
      "text/plain": [
       "1    480304\n",
       "0     26306\n",
       "Name: loan_status, dtype: int64"
      ]
     },
     "execution_count": 1185,
     "metadata": {},
     "output_type": "execute_result"
    }
   ],
   "source": [
    "#1 = Loan is 'Current' (AKA borrower is current on payments)\n",
    "#0 = Loan is 'Default' (AKA borrower has missed a payment(s))\n",
    "\n",
    "y_train.value_counts()"
   ]
  },
  {
   "cell_type": "code",
   "execution_count": 1186,
   "id": "8b3463c7",
   "metadata": {},
   "outputs": [],
   "source": [
    "#Undersample data set given the high amount of loans that are Current\n",
    "n_pos = np.sum(y_train == 1)\n",
    "n_neg = np.sum(y_train == 0)\n",
    "\n",
    "ratio = {1 : n_pos , 0 : n_neg }"
   ]
  },
  {
   "cell_type": "code",
   "execution_count": 1187,
   "id": "9c06187d",
   "metadata": {},
   "outputs": [],
   "source": [
    "undersample = imblearn.under_sampling.RandomUnderSampler(sampling_strategy=1 , random_state = 42)\n",
    "X_under, y_under = undersample.fit_resample(X_train, y_train)"
   ]
  },
  {
   "cell_type": "code",
   "execution_count": 1188,
   "id": "386916ba",
   "metadata": {},
   "outputs": [
    {
     "data": {
      "text/plain": [
       "0    26306\n",
       "1    26306\n",
       "Name: loan_status, dtype: int64"
      ]
     },
     "execution_count": 1188,
     "metadata": {},
     "output_type": "execute_result"
    }
   ],
   "source": [
    "y_under.value_counts()"
   ]
  },
  {
   "cell_type": "markdown",
   "id": "8940bff6",
   "metadata": {},
   "source": [
    "### Feature Scaling and Splitting Datasest "
   ]
  },
  {
   "cell_type": "code",
   "execution_count": 1189,
   "id": "e09ac14a",
   "metadata": {},
   "outputs": [],
   "source": [
    "from sklearn import preprocessing\n",
    "from sklearn.preprocessing import StandardScaler"
   ]
  },
  {
   "cell_type": "code",
   "execution_count": 1190,
   "id": "9ed3a4b9",
   "metadata": {},
   "outputs": [],
   "source": [
    "#Scaling Training Data\n",
    "scaler = StandardScaler()\n",
    "scaler.fit(X_under.values)\n",
    "\n",
    "X_tr = scaler.transform(X_under.values)"
   ]
  },
  {
   "cell_type": "code",
   "execution_count": 1191,
   "id": "647d80ab",
   "metadata": {},
   "outputs": [
    {
     "data": {
      "text/plain": [
       "array([ 1.29651225e-17, -2.80910988e-17,  1.51259763e-17,  5.48316640e-17,\n",
       "       -1.90155130e-16,  9.93992727e-17,  4.21366482e-17, -2.22567937e-16,\n",
       "       -3.02519526e-17,  7.13081739e-17, -1.64224885e-16, -2.09602814e-16,\n",
       "        1.72598194e-16, -4.09211680e-17,  3.56540869e-17,  2.04470787e-16,\n",
       "       -3.12243367e-16, -6.32049723e-17])"
      ]
     },
     "execution_count": 1191,
     "metadata": {},
     "output_type": "execute_result"
    }
   ],
   "source": [
    "#Confirm scaling worked by checking standard deviation of features\n",
    "X_tr.mean(axis=0)"
   ]
  },
  {
   "cell_type": "code",
   "execution_count": 1192,
   "id": "e249711c",
   "metadata": {},
   "outputs": [
    {
     "data": {
      "text/plain": [
       "(52612, 18)"
      ]
     },
     "execution_count": 1192,
     "metadata": {},
     "output_type": "execute_result"
    }
   ],
   "source": [
    "X_tr.shape"
   ]
  },
  {
   "cell_type": "code",
   "execution_count": 1193,
   "id": "c141a233",
   "metadata": {},
   "outputs": [
    {
     "data": {
      "text/plain": [
       "(168870, 18)"
      ]
     },
     "execution_count": 1193,
     "metadata": {},
     "output_type": "execute_result"
    }
   ],
   "source": [
    "X_val.shape"
   ]
  },
  {
   "cell_type": "markdown",
   "id": "3355827f",
   "metadata": {},
   "source": [
    "### Creating Baseline Mode\n",
    "\n",
    "For this analysis, four models were cross validated then fitted against the validation dataset. The four models are: Logistic Regression, kNN, Random Forest, and XGBoost. \n",
    "\n",
    "An average of the cross validation scores was then printed to choose the best model. "
   ]
  },
  {
   "cell_type": "code",
   "execution_count": 615,
   "id": "01d3635e",
   "metadata": {},
   "outputs": [],
   "source": [
    "from sklearn.metrics import roc_auc_score, roc_curve\n",
    "from sklearn.linear_model import LogisticRegression\n",
    "from sklearn.neighbors import KNeighborsClassifier\n",
    "from sklearn.ensemble import RandomForestClassifier\n",
    "import xgboost as xgb"
   ]
  },
  {
   "cell_type": "code",
   "execution_count": 974,
   "id": "46cb5d73",
   "metadata": {},
   "outputs": [
    {
     "name": "stdout",
     "output_type": "stream",
     "text": [
      "ROC AUC score =  0.593817552028124\n"
     ]
    },
    {
     "data": {
      "image/png": "[encoded data removed]",
      "text/plain": [
       "<Figure size 432x288 with 1 Axes>"
      ]
     },
     "metadata": {
      "needs_background": "light"
     },
     "output_type": "display_data"
    }
   ],
   "source": [
    "#Logistic Regression Baseline Model\n",
    "lr = LogisticRegression(C=10)\n",
    "lr.fit(X_under, y_under)\n",
    "\n",
    "fpr, tpr, thresholds = roc_curve(y_val, lr.predict_proba(X_val)[:,1])\n",
    "\n",
    "plt.title('Linear Regression')\n",
    "plt.plot(fpr, tpr,lw=2)\n",
    "plt.plot([0,1],[0,1],c='violet',ls='--')\n",
    "\n",
    "plt.xlabel('False positive rate')\n",
    "plt.ylabel('True positive rate')\n",
    "print(\"ROC AUC score = \", roc_auc_score(y_test, lr.predict_proba(X_test)[:,1]))"
   ]
  },
  {
   "cell_type": "code",
   "execution_count": 977,
   "id": "523a2203",
   "metadata": {},
   "outputs": [
    {
     "name": "stdout",
     "output_type": "stream",
     "text": [
      "ROC AUC score =  0.521886496011509\n"
     ]
    },
    {
     "data": {
      "image/png": "[encoded data removed]",
      "text/plain": [
       "<Figure size 432x288 with 1 Axes>"
      ]
     },
     "metadata": {
      "needs_background": "light"
     },
     "output_type": "display_data"
    }
   ],
   "source": [
    "#KNN Baseline Model\n",
    "kNN = KNeighborsClassifier(n_neighbors = 3, n_jobs = -1 , leaf_size = 40)\n",
    "kNN.fit(X_under, y_under)\n",
    "\n",
    "fpr, tpr, thresholds = roc_curve(y_val, kNN.predict_proba(X_val)[:,1])\n",
    "\n",
    "plt.title('k-Nearest Neighbors')\n",
    "plt.plot(fpr, tpr,lw=2)\n",
    "plt.plot([0,1],[0,1],c='violet',ls='--')\n",
    "\n",
    "plt.xlabel('False positive rate')\n",
    "plt.ylabel('True positive rate')\n",
    "print(\"ROC AUC score = \", roc_auc_score(y_val, kNN.predict_proba(X_val)[:,1]))"
   ]
  },
  {
   "cell_type": "code",
   "execution_count": 987,
   "id": "68ee44e4",
   "metadata": {},
   "outputs": [
    {
     "name": "stdout",
     "output_type": "stream",
     "text": [
      "ROC AUC score =  0.7151939125884164\n"
     ]
    },
    {
     "data": {
      "image/png": "[encoded data removed]",
      "text/plain": [
       "<Figure size 432x288 with 1 Axes>"
      ]
     },
     "metadata": {
      "needs_background": "light"
     },
     "output_type": "display_data"
    }
   ],
   "source": [
    "#Random Forest Baseline Model\n",
    "rf = RandomForestClassifier(max_depth = 10)\n",
    "rf.fit(X_under, y_under)\n",
    "\n",
    "fpr, tpr, thresholds = roc_curve(y_val, rf.predict_proba(X_val)[:,1])\n",
    "\n",
    "plt.title('Random Forest')\n",
    "plt.plot(fpr, tpr,lw=2)\n",
    "plt.plot([0,1],[0,1],c='violet',ls='--')\n",
    "\n",
    "plt.xlabel('False positive rate')\n",
    "plt.ylabel('True positive rate')\n",
    "print(\"ROC AUC score = \", roc_auc_score(y_val, rf.predict_proba(X_val)[:,1]))\n"
   ]
  },
  {
   "cell_type": "code",
   "execution_count": 1341,
   "id": "167617f5",
   "metadata": {},
   "outputs": [
    {
     "name": "stderr",
     "output_type": "stream",
     "text": [
      "C:\\Users\\jayju\\anaconda3\\lib\\site-packages\\xgboost\\sklearn.py:1224: UserWarning: The use of label encoder in XGBClassifier is deprecated and will be removed in a future release. To remove this warning, do the following: 1) Pass option use_label_encoder=False when constructing XGBClassifier object; and 2) Encode your labels (y) as integers starting with 0, i.e. 0, 1, 2, ..., [num_class - 1].\n",
      "  warnings.warn(label_encoder_deprecation_msg, UserWarning)\n"
     ]
    },
    {
     "name": "stdout",
     "output_type": "stream",
     "text": [
      "[17:56:41] WARNING: C:/Users/Administrator/workspace/xgboost-win64_release_1.5.1/src/learner.cc:1115: Starting in XGBoost 1.3.0, the default evaluation metric used with the objective 'binary:logistic' was changed from 'error' to 'logloss'. Explicitly set eval_metric if you'd like to restore the old behavior.\n",
      "ROC AUC score =  0.7305148286299761\n"
     ]
    },
    {
     "ename": "NameError",
     "evalue": "name 'sqrt' is not defined",
     "output_type": "error",
     "traceback": [
      "\u001b[1;31m---------------------------------------------------------------------------\u001b[0m",
      "\u001b[1;31mNameError\u001b[0m                                 Traceback (most recent call last)",
      "\u001b[1;32m<ipython-input-1341-838839c99a5d>\u001b[0m in \u001b[0;36m<module>\u001b[1;34m\u001b[0m\n\u001b[0;32m     12\u001b[0m \u001b[0mplt\u001b[0m\u001b[1;33m.\u001b[0m\u001b[0mylabel\u001b[0m\u001b[1;33m(\u001b[0m\u001b[1;34m'True positive rate'\u001b[0m\u001b[1;33m)\u001b[0m\u001b[1;33m\u001b[0m\u001b[1;33m\u001b[0m\u001b[0m\n\u001b[0;32m     13\u001b[0m \u001b[0mprint\u001b[0m\u001b[1;33m(\u001b[0m\u001b[1;34m\"ROC AUC score = \"\u001b[0m\u001b[1;33m,\u001b[0m \u001b[0mroc_auc_score\u001b[0m\u001b[1;33m(\u001b[0m\u001b[0my_val\u001b[0m\u001b[1;33m,\u001b[0m \u001b[0mxgb_cl\u001b[0m\u001b[1;33m.\u001b[0m\u001b[0mpredict_proba\u001b[0m\u001b[1;33m(\u001b[0m\u001b[0mX_val\u001b[0m\u001b[1;33m)\u001b[0m\u001b[1;33m[\u001b[0m\u001b[1;33m:\u001b[0m\u001b[1;33m,\u001b[0m\u001b[1;36m1\u001b[0m\u001b[1;33m]\u001b[0m\u001b[1;33m)\u001b[0m\u001b[1;33m)\u001b[0m\u001b[1;33m\u001b[0m\u001b[1;33m\u001b[0m\u001b[0m\n\u001b[1;32m---> 14\u001b[1;33m \u001b[0mgmeans\u001b[0m \u001b[1;33m=\u001b[0m \u001b[0msqrt\u001b[0m\u001b[1;33m(\u001b[0m\u001b[0mtpr\u001b[0m\u001b[1;33m*\u001b[0m\u001b[1;33m(\u001b[0m\u001b[1;36m1\u001b[0m\u001b[1;33m-\u001b[0m\u001b[0mfpr\u001b[0m\u001b[1;33m)\u001b[0m\u001b[1;33m)\u001b[0m\u001b[1;33m\u001b[0m\u001b[1;33m\u001b[0m\u001b[0m\n\u001b[0m",
      "\u001b[1;31mNameError\u001b[0m: name 'sqrt' is not defined"
     ]
    },
    {
     "data": {
      "image/png": "[encoded data removed]",
      "text/plain": [
       "<Figure size 432x288 with 1 Axes>"
      ]
     },
     "metadata": {
      "needs_background": "light"
     },
     "output_type": "display_data"
    }
   ],
   "source": [
    "#XGBoost Baseline Model\n",
    "xgb_cl = xgb.XGBClassifier(n_estimators = 100 , max_depth = 5) \n",
    "xgb_cl.fit(X_under, y_under)\n",
    "\n",
    "fpr, tpr, thresholds = roc_curve(y_val, xgb_cl.predict_proba(X_val)[:,1])\n",
    "\n",
    "plt.title('XGBoost')\n",
    "plt.plot(fpr, tpr,lw=2)\n",
    "plt.plot([0,1],[0,1],c='violet',ls='--')\n",
    "\n",
    "plt.xlabel('False positive rate')\n",
    "plt.ylabel('True positive rate')\n",
    "print(\"ROC AUC score = \", roc_auc_score(y_val, xgb_cl.predict_proba(X_val)[:,1]))"
   ]
  },
  {
   "cell_type": "markdown",
   "id": "a11b11be",
   "metadata": {},
   "source": [
    "Based on the below scores, the XGBoost data is determined to be the best fit model for this project. "
   ]
  },
  {
   "cell_type": "markdown",
   "id": "bdc53afe",
   "metadata": {},
   "source": [
    "### Final Data Fit and Predictions"
   ]
  },
  {
   "cell_type": "code",
   "execution_count": 1072,
   "id": "712f6154",
   "metadata": {},
   "outputs": [],
   "source": [
    "from sklearn.metrics import accuracy_score, confusion_matrix, f1_score , precision_score"
   ]
  },
  {
   "cell_type": "code",
   "execution_count": 1073,
   "id": "ff2b5e22",
   "metadata": {},
   "outputs": [],
   "source": [
    "xgboost = xgb.XGBClassifier(n_estimators=10000,\n",
    "                       max_depth=6,\n",
    "                       objective=\"reg:squarederror\", \n",
    "                       learning_rate=0.1, \n",
    "                       subsample=1,\n",
    "                       min_child_weight=1,\n",
    "                       colsample_bytree=.8)"
   ]
  },
  {
   "cell_type": "code",
   "execution_count": 1074,
   "id": "7c2bcc51",
   "metadata": {},
   "outputs": [
    {
     "name": "stdout",
     "output_type": "stream",
     "text": [
      "[0]\tvalidation_0-rmse:0.49403\tvalidation_1-rmse:0.49434\n",
      "[1]\tvalidation_0-rmse:0.48844\tvalidation_1-rmse:0.48904\n",
      "[2]\tvalidation_0-rmse:0.48379\tvalidation_1-rmse:0.48469\n",
      "[3]\tvalidation_0-rmse:0.48172\tvalidation_1-rmse:0.48313\n",
      "[4]\tvalidation_0-rmse:0.47830\tvalidation_1-rmse:0.48004\n",
      "[5]\tvalidation_0-rmse:0.47550\tvalidation_1-rmse:0.47764\n"
     ]
    },
    {
     "name": "stderr",
     "output_type": "stream",
     "text": [
      "C:\\Users\\jayju\\anaconda3\\lib\\site-packages\\xgboost\\sklearn.py:1224: UserWarning: The use of label encoder in XGBClassifier is deprecated and will be removed in a future release. To remove this warning, do the following: 1) Pass option use_label_encoder=False when constructing XGBClassifier object; and 2) Encode your labels (y) as integers starting with 0, i.e. 0, 1, 2, ..., [num_class - 1].\n",
      "  warnings.warn(label_encoder_deprecation_msg, UserWarning)\n"
     ]
    },
    {
     "name": "stdout",
     "output_type": "stream",
     "text": [
      "[6]\tvalidation_0-rmse:0.47273\tvalidation_1-rmse:0.47514\n",
      "[7]\tvalidation_0-rmse:0.47055\tvalidation_1-rmse:0.47334\n",
      "[8]\tvalidation_0-rmse:0.46859\tvalidation_1-rmse:0.47180\n",
      "[9]\tvalidation_0-rmse:0.46695\tvalidation_1-rmse:0.47050\n",
      "[10]\tvalidation_0-rmse:0.46537\tvalidation_1-rmse:0.46926\n",
      "[11]\tvalidation_0-rmse:0.46416\tvalidation_1-rmse:0.46840\n",
      "[12]\tvalidation_0-rmse:0.46303\tvalidation_1-rmse:0.46758\n",
      "[13]\tvalidation_0-rmse:0.46210\tvalidation_1-rmse:0.46701\n",
      "[14]\tvalidation_0-rmse:0.46094\tvalidation_1-rmse:0.46610\n",
      "[15]\tvalidation_0-rmse:0.45989\tvalidation_1-rmse:0.46538\n",
      "[16]\tvalidation_0-rmse:0.45904\tvalidation_1-rmse:0.46489\n",
      "[17]\tvalidation_0-rmse:0.45837\tvalidation_1-rmse:0.46464\n",
      "[18]\tvalidation_0-rmse:0.45764\tvalidation_1-rmse:0.46428\n",
      "[19]\tvalidation_0-rmse:0.45697\tvalidation_1-rmse:0.46389\n",
      "[20]\tvalidation_0-rmse:0.45635\tvalidation_1-rmse:0.46367\n",
      "[21]\tvalidation_0-rmse:0.45587\tvalidation_1-rmse:0.46344\n",
      "[22]\tvalidation_0-rmse:0.45529\tvalidation_1-rmse:0.46322\n",
      "[23]\tvalidation_0-rmse:0.45478\tvalidation_1-rmse:0.46313\n",
      "[24]\tvalidation_0-rmse:0.45417\tvalidation_1-rmse:0.46287\n",
      "[25]\tvalidation_0-rmse:0.45368\tvalidation_1-rmse:0.46262\n",
      "[26]\tvalidation_0-rmse:0.45327\tvalidation_1-rmse:0.46251\n",
      "[27]\tvalidation_0-rmse:0.45274\tvalidation_1-rmse:0.46238\n",
      "[28]\tvalidation_0-rmse:0.45230\tvalidation_1-rmse:0.46213\n",
      "[29]\tvalidation_0-rmse:0.45197\tvalidation_1-rmse:0.46205\n",
      "[30]\tvalidation_0-rmse:0.45150\tvalidation_1-rmse:0.46203\n",
      "[31]\tvalidation_0-rmse:0.45109\tvalidation_1-rmse:0.46191\n",
      "[32]\tvalidation_0-rmse:0.45071\tvalidation_1-rmse:0.46183\n",
      "[33]\tvalidation_0-rmse:0.45034\tvalidation_1-rmse:0.46176\n",
      "[34]\tvalidation_0-rmse:0.44992\tvalidation_1-rmse:0.46166\n",
      "[35]\tvalidation_0-rmse:0.44969\tvalidation_1-rmse:0.46162\n",
      "[36]\tvalidation_0-rmse:0.44941\tvalidation_1-rmse:0.46160\n",
      "[37]\tvalidation_0-rmse:0.44905\tvalidation_1-rmse:0.46157\n",
      "[38]\tvalidation_0-rmse:0.44877\tvalidation_1-rmse:0.46153\n",
      "[39]\tvalidation_0-rmse:0.44844\tvalidation_1-rmse:0.46147\n",
      "[40]\tvalidation_0-rmse:0.44806\tvalidation_1-rmse:0.46142\n",
      "[41]\tvalidation_0-rmse:0.44770\tvalidation_1-rmse:0.46140\n",
      "[42]\tvalidation_0-rmse:0.44739\tvalidation_1-rmse:0.46135\n",
      "[43]\tvalidation_0-rmse:0.44709\tvalidation_1-rmse:0.46135\n",
      "[44]\tvalidation_0-rmse:0.44678\tvalidation_1-rmse:0.46129\n",
      "[45]\tvalidation_0-rmse:0.44650\tvalidation_1-rmse:0.46126\n",
      "[46]\tvalidation_0-rmse:0.44614\tvalidation_1-rmse:0.46097\n",
      "[47]\tvalidation_0-rmse:0.44581\tvalidation_1-rmse:0.46094\n",
      "[48]\tvalidation_0-rmse:0.44550\tvalidation_1-rmse:0.46094\n",
      "[49]\tvalidation_0-rmse:0.44533\tvalidation_1-rmse:0.46094\n",
      "[50]\tvalidation_0-rmse:0.44500\tvalidation_1-rmse:0.46092\n",
      "[51]\tvalidation_0-rmse:0.44477\tvalidation_1-rmse:0.46091\n",
      "[52]\tvalidation_0-rmse:0.44455\tvalidation_1-rmse:0.46087\n",
      "[53]\tvalidation_0-rmse:0.44420\tvalidation_1-rmse:0.46085\n",
      "[54]\tvalidation_0-rmse:0.44396\tvalidation_1-rmse:0.46086\n",
      "[55]\tvalidation_0-rmse:0.44376\tvalidation_1-rmse:0.46085\n",
      "[56]\tvalidation_0-rmse:0.44356\tvalidation_1-rmse:0.46084\n",
      "[57]\tvalidation_0-rmse:0.44330\tvalidation_1-rmse:0.46083\n",
      "[58]\tvalidation_0-rmse:0.44321\tvalidation_1-rmse:0.46083\n",
      "[59]\tvalidation_0-rmse:0.44296\tvalidation_1-rmse:0.46086\n",
      "[60]\tvalidation_0-rmse:0.44273\tvalidation_1-rmse:0.46087\n",
      "[61]\tvalidation_0-rmse:0.44259\tvalidation_1-rmse:0.46086\n",
      "[62]\tvalidation_0-rmse:0.44249\tvalidation_1-rmse:0.46085\n",
      "[63]\tvalidation_0-rmse:0.44225\tvalidation_1-rmse:0.46082\n",
      "[64]\tvalidation_0-rmse:0.44206\tvalidation_1-rmse:0.46082\n",
      "[65]\tvalidation_0-rmse:0.44161\tvalidation_1-rmse:0.46059\n",
      "[66]\tvalidation_0-rmse:0.44136\tvalidation_1-rmse:0.46061\n",
      "[67]\tvalidation_0-rmse:0.44113\tvalidation_1-rmse:0.46061\n",
      "[68]\tvalidation_0-rmse:0.44101\tvalidation_1-rmse:0.46062\n",
      "[69]\tvalidation_0-rmse:0.44070\tvalidation_1-rmse:0.46057\n",
      "[70]\tvalidation_0-rmse:0.44064\tvalidation_1-rmse:0.46057\n",
      "[71]\tvalidation_0-rmse:0.44052\tvalidation_1-rmse:0.46056\n",
      "[72]\tvalidation_0-rmse:0.44043\tvalidation_1-rmse:0.46055\n",
      "[73]\tvalidation_0-rmse:0.44032\tvalidation_1-rmse:0.46056\n",
      "[74]\tvalidation_0-rmse:0.44004\tvalidation_1-rmse:0.46056\n",
      "[75]\tvalidation_0-rmse:0.43985\tvalidation_1-rmse:0.46055\n",
      "[76]\tvalidation_0-rmse:0.43970\tvalidation_1-rmse:0.46054\n",
      "[77]\tvalidation_0-rmse:0.43939\tvalidation_1-rmse:0.46059\n",
      "[78]\tvalidation_0-rmse:0.43908\tvalidation_1-rmse:0.46049\n",
      "[79]\tvalidation_0-rmse:0.43897\tvalidation_1-rmse:0.46050\n",
      "[80]\tvalidation_0-rmse:0.43893\tvalidation_1-rmse:0.46051\n",
      "[81]\tvalidation_0-rmse:0.43865\tvalidation_1-rmse:0.46051\n",
      "[82]\tvalidation_0-rmse:0.43853\tvalidation_1-rmse:0.46051\n",
      "[83]\tvalidation_0-rmse:0.43848\tvalidation_1-rmse:0.46051\n",
      "[84]\tvalidation_0-rmse:0.43817\tvalidation_1-rmse:0.46041\n",
      "[85]\tvalidation_0-rmse:0.43789\tvalidation_1-rmse:0.46039\n",
      "[86]\tvalidation_0-rmse:0.43729\tvalidation_1-rmse:0.46000\n",
      "[87]\tvalidation_0-rmse:0.43717\tvalidation_1-rmse:0.46000\n",
      "[88]\tvalidation_0-rmse:0.43707\tvalidation_1-rmse:0.46000\n",
      "[89]\tvalidation_0-rmse:0.43700\tvalidation_1-rmse:0.46001\n",
      "[90]\tvalidation_0-rmse:0.43680\tvalidation_1-rmse:0.46001\n",
      "[91]\tvalidation_0-rmse:0.43641\tvalidation_1-rmse:0.45982\n",
      "[92]\tvalidation_0-rmse:0.43628\tvalidation_1-rmse:0.45973\n",
      "[93]\tvalidation_0-rmse:0.43623\tvalidation_1-rmse:0.45973\n",
      "[94]\tvalidation_0-rmse:0.43607\tvalidation_1-rmse:0.45970\n",
      "[95]\tvalidation_0-rmse:0.43578\tvalidation_1-rmse:0.45974\n",
      "[96]\tvalidation_0-rmse:0.43550\tvalidation_1-rmse:0.45973\n",
      "[97]\tvalidation_0-rmse:0.43521\tvalidation_1-rmse:0.45974\n",
      "[98]\tvalidation_0-rmse:0.43511\tvalidation_1-rmse:0.45974\n",
      "[99]\tvalidation_0-rmse:0.43506\tvalidation_1-rmse:0.45974\n",
      "[100]\tvalidation_0-rmse:0.43495\tvalidation_1-rmse:0.45974\n",
      "[101]\tvalidation_0-rmse:0.43484\tvalidation_1-rmse:0.45976\n",
      "[102]\tvalidation_0-rmse:0.43456\tvalidation_1-rmse:0.45965\n",
      "[103]\tvalidation_0-rmse:0.43447\tvalidation_1-rmse:0.45965\n",
      "[104]\tvalidation_0-rmse:0.43424\tvalidation_1-rmse:0.45964\n",
      "[105]\tvalidation_0-rmse:0.43382\tvalidation_1-rmse:0.45945\n",
      "[106]\tvalidation_0-rmse:0.43335\tvalidation_1-rmse:0.45917\n",
      "[107]\tvalidation_0-rmse:0.43329\tvalidation_1-rmse:0.45920\n",
      "[108]\tvalidation_0-rmse:0.43305\tvalidation_1-rmse:0.45921\n",
      "[109]\tvalidation_0-rmse:0.43262\tvalidation_1-rmse:0.45899\n",
      "[110]\tvalidation_0-rmse:0.43260\tvalidation_1-rmse:0.45900\n",
      "[111]\tvalidation_0-rmse:0.43250\tvalidation_1-rmse:0.45896\n",
      "[112]\tvalidation_0-rmse:0.43238\tvalidation_1-rmse:0.45898\n",
      "[113]\tvalidation_0-rmse:0.43219\tvalidation_1-rmse:0.45899\n",
      "[114]\tvalidation_0-rmse:0.43203\tvalidation_1-rmse:0.45902\n",
      "[115]\tvalidation_0-rmse:0.43182\tvalidation_1-rmse:0.45903\n",
      "[116]\tvalidation_0-rmse:0.43169\tvalidation_1-rmse:0.45904\n",
      "[117]\tvalidation_0-rmse:0.43148\tvalidation_1-rmse:0.45902\n",
      "[118]\tvalidation_0-rmse:0.43141\tvalidation_1-rmse:0.45897\n",
      "[119]\tvalidation_0-rmse:0.43112\tvalidation_1-rmse:0.45897\n",
      "[120]\tvalidation_0-rmse:0.43079\tvalidation_1-rmse:0.45902\n",
      "[121]\tvalidation_0-rmse:0.43071\tvalidation_1-rmse:0.45904\n",
      "[122]\tvalidation_0-rmse:0.43062\tvalidation_1-rmse:0.45905\n",
      "[123]\tvalidation_0-rmse:0.43040\tvalidation_1-rmse:0.45909\n",
      "[124]\tvalidation_0-rmse:0.43005\tvalidation_1-rmse:0.45894\n",
      "[125]\tvalidation_0-rmse:0.42986\tvalidation_1-rmse:0.45895\n",
      "[126]\tvalidation_0-rmse:0.42960\tvalidation_1-rmse:0.45893\n",
      "[127]\tvalidation_0-rmse:0.42941\tvalidation_1-rmse:0.45894\n",
      "[128]\tvalidation_0-rmse:0.42918\tvalidation_1-rmse:0.45891\n",
      "[129]\tvalidation_0-rmse:0.42904\tvalidation_1-rmse:0.45894\n",
      "[130]\tvalidation_0-rmse:0.42896\tvalidation_1-rmse:0.45894\n",
      "[131]\tvalidation_0-rmse:0.42876\tvalidation_1-rmse:0.45891\n",
      "[132]\tvalidation_0-rmse:0.42873\tvalidation_1-rmse:0.45891\n",
      "[133]\tvalidation_0-rmse:0.42856\tvalidation_1-rmse:0.45888\n",
      "[134]\tvalidation_0-rmse:0.42851\tvalidation_1-rmse:0.45890\n",
      "[135]\tvalidation_0-rmse:0.42825\tvalidation_1-rmse:0.45894\n",
      "[136]\tvalidation_0-rmse:0.42800\tvalidation_1-rmse:0.45895\n",
      "[137]\tvalidation_0-rmse:0.42777\tvalidation_1-rmse:0.45893\n",
      "[138]\tvalidation_0-rmse:0.42762\tvalidation_1-rmse:0.45891\n",
      "[139]\tvalidation_0-rmse:0.42749\tvalidation_1-rmse:0.45893\n",
      "[140]\tvalidation_0-rmse:0.42733\tvalidation_1-rmse:0.45894\n",
      "[141]\tvalidation_0-rmse:0.42700\tvalidation_1-rmse:0.45881\n",
      "[142]\tvalidation_0-rmse:0.42688\tvalidation_1-rmse:0.45882\n",
      "[143]\tvalidation_0-rmse:0.42684\tvalidation_1-rmse:0.45882\n",
      "[144]\tvalidation_0-rmse:0.42656\tvalidation_1-rmse:0.45874\n",
      "[145]\tvalidation_0-rmse:0.42639\tvalidation_1-rmse:0.45875\n",
      "[146]\tvalidation_0-rmse:0.42626\tvalidation_1-rmse:0.45875\n",
      "[147]\tvalidation_0-rmse:0.42599\tvalidation_1-rmse:0.45881\n",
      "[148]\tvalidation_0-rmse:0.42584\tvalidation_1-rmse:0.45874\n"
     ]
    },
    {
     "name": "stdout",
     "output_type": "stream",
     "text": [
      "[149]\tvalidation_0-rmse:0.42570\tvalidation_1-rmse:0.45875\n",
      "[150]\tvalidation_0-rmse:0.42547\tvalidation_1-rmse:0.45874\n",
      "[151]\tvalidation_0-rmse:0.42521\tvalidation_1-rmse:0.45875\n",
      "[152]\tvalidation_0-rmse:0.42499\tvalidation_1-rmse:0.45876\n",
      "[153]\tvalidation_0-rmse:0.42485\tvalidation_1-rmse:0.45876\n",
      "[154]\tvalidation_0-rmse:0.42482\tvalidation_1-rmse:0.45877\n",
      "[155]\tvalidation_0-rmse:0.42477\tvalidation_1-rmse:0.45876\n",
      "[156]\tvalidation_0-rmse:0.42458\tvalidation_1-rmse:0.45876\n",
      "[157]\tvalidation_0-rmse:0.42446\tvalidation_1-rmse:0.45879\n",
      "[158]\tvalidation_0-rmse:0.42428\tvalidation_1-rmse:0.45879\n",
      "[159]\tvalidation_0-rmse:0.42414\tvalidation_1-rmse:0.45881\n",
      "[160]\tvalidation_0-rmse:0.42390\tvalidation_1-rmse:0.45878\n",
      "[161]\tvalidation_0-rmse:0.42373\tvalidation_1-rmse:0.45878\n",
      "[162]\tvalidation_0-rmse:0.42341\tvalidation_1-rmse:0.45864\n",
      "[163]\tvalidation_0-rmse:0.42313\tvalidation_1-rmse:0.45856\n",
      "[164]\tvalidation_0-rmse:0.42303\tvalidation_1-rmse:0.45857\n",
      "[165]\tvalidation_0-rmse:0.42279\tvalidation_1-rmse:0.45859\n",
      "[166]\tvalidation_0-rmse:0.42265\tvalidation_1-rmse:0.45856\n",
      "[167]\tvalidation_0-rmse:0.42250\tvalidation_1-rmse:0.45855\n",
      "[168]\tvalidation_0-rmse:0.42246\tvalidation_1-rmse:0.45855\n",
      "[169]\tvalidation_0-rmse:0.42220\tvalidation_1-rmse:0.45856\n",
      "[170]\tvalidation_0-rmse:0.42210\tvalidation_1-rmse:0.45856\n",
      "[171]\tvalidation_0-rmse:0.42198\tvalidation_1-rmse:0.45852\n",
      "[172]\tvalidation_0-rmse:0.42194\tvalidation_1-rmse:0.45853\n",
      "[173]\tvalidation_0-rmse:0.42186\tvalidation_1-rmse:0.45854\n",
      "[174]\tvalidation_0-rmse:0.42161\tvalidation_1-rmse:0.45853\n",
      "[175]\tvalidation_0-rmse:0.42140\tvalidation_1-rmse:0.45854\n",
      "[176]\tvalidation_0-rmse:0.42114\tvalidation_1-rmse:0.45856\n",
      "[177]\tvalidation_0-rmse:0.42086\tvalidation_1-rmse:0.45855\n",
      "[178]\tvalidation_0-rmse:0.42069\tvalidation_1-rmse:0.45856\n",
      "[179]\tvalidation_0-rmse:0.42066\tvalidation_1-rmse:0.45856\n",
      "[180]\tvalidation_0-rmse:0.42063\tvalidation_1-rmse:0.45856\n",
      "[181]\tvalidation_0-rmse:0.42059\tvalidation_1-rmse:0.45857\n",
      "[182]\tvalidation_0-rmse:0.42052\tvalidation_1-rmse:0.45857\n",
      "[183]\tvalidation_0-rmse:0.42044\tvalidation_1-rmse:0.45857\n",
      "[184]\tvalidation_0-rmse:0.42025\tvalidation_1-rmse:0.45859\n",
      "[185]\tvalidation_0-rmse:0.42012\tvalidation_1-rmse:0.45860\n",
      "[186]\tvalidation_0-rmse:0.41988\tvalidation_1-rmse:0.45864\n",
      "[187]\tvalidation_0-rmse:0.41986\tvalidation_1-rmse:0.45864\n",
      "[188]\tvalidation_0-rmse:0.41963\tvalidation_1-rmse:0.45861\n",
      "[189]\tvalidation_0-rmse:0.41943\tvalidation_1-rmse:0.45862\n",
      "[190]\tvalidation_0-rmse:0.41917\tvalidation_1-rmse:0.45866\n"
     ]
    }
   ],
   "source": [
    "eval_set=[(X_under,y_under),(X_val,y_val)] \n",
    "fit_model = xgboost.fit( \n",
    "                    X_under, y_under, \n",
    "                    eval_set=eval_set,\n",
    "                    eval_metric='rmse',\n",
    "                    early_stopping_rounds=20,\n",
    "                    verbose=True #gives output log as below\n",
    "                   )"
   ]
  },
  {
   "cell_type": "code",
   "execution_count": 1075,
   "id": "bd106eb3",
   "metadata": {},
   "outputs": [
    {
     "name": "stdout",
     "output_type": "stream",
     "text": [
      "0.6554864688813881\n"
     ]
    }
   ],
   "source": [
    "print(xgboost.score(X_val,y_val))"
   ]
  },
  {
   "cell_type": "code",
   "execution_count": 1361,
   "id": "3f87afbd",
   "metadata": {},
   "outputs": [
    {
     "name": "stdout",
     "output_type": "stream",
     "text": [
      "Best Threshold=0.487396, G-Mean=0.669\n"
     ]
    }
   ],
   "source": [
    "from numpy import sqrt\n",
    "from numpy import argmax\n",
    "\n",
    "gmeans = sqrt(tpr*(1-fpr))\n",
    "ix = argmax(gmeans)\n",
    "\n",
    "print('Best Threshold=%f, G-Mean=%.3f' % (thresholds[ix], gmeans[ix]))"
   ]
  },
  {
   "cell_type": "code",
   "execution_count": 1076,
   "id": "0cd16ae6",
   "metadata": {},
   "outputs": [
    {
     "name": "stdout",
     "output_type": "stream",
     "text": [
      "The score for XGBoost is\n",
      "Training:  65.18%\n",
      "Test set:  64.98%\n"
     ]
    }
   ],
   "source": [
    "print(\"The score for XGBoost is\")\n",
    "print(\"Training: {:6.2f}%\".format(100*xgb_cl.score(X_val, y_val)))\n",
    "print(\"Test set: {:6.2f}%\".format(100*xgb_cl.score(X_test, y_test)))"
   ]
  },
  {
   "cell_type": "code",
   "execution_count": 1077,
   "id": "9a099db3",
   "metadata": {},
   "outputs": [
    {
     "name": "stdout",
     "output_type": "stream",
     "text": [
      "The score for XGBoost is\n",
      "Training:  65.55%\n",
      "Test set:  65.47%\n"
     ]
    }
   ],
   "source": [
    "print(\"The score for XGBoost is\")\n",
    "print(\"Training: {:6.2f}%\".format(100*xgboost.score(X_val, y_val)))\n",
    "print(\"Test set: {:6.2f}%\".format(100*xgboost.score(X_test, y_test)))"
   ]
  },
  {
   "cell_type": "markdown",
   "id": "82dbb895",
   "metadata": {},
   "source": [
    "### Finding Maximum ARR based on Confusion Matrixes"
   ]
  },
  {
   "cell_type": "code",
   "execution_count": 1521,
   "id": "10b95563",
   "metadata": {},
   "outputs": [
    {
     "name": "stdout",
     "output_type": "stream",
     "text": [
      "F1 Score:   0.41%\n",
      "Precision:  99.70%\n",
      "Accuracy:   5.45%\n",
      "Recall:   0.20%\n"
     ]
    }
   ],
   "source": [
    "#XGBoost w/ Scores provided since it was highest performing model\n",
    "threshold = .99\n",
    "\n",
    "xgb_prob = xgboost.predict_proba(X_test)\n",
    "xgb_predicted = (xgb_prob[:,1] >= threshold).astype('int')\n",
    "\n",
    "xgb_f1 = f1_score(y_test , xgb_predicted)\n",
    "xgb_pre = precision_score(y_test , xgb_predicted)\n",
    "xgb_acc = accuracy_score(y_test , xgb_predicted)\n",
    "xgb_rec = recall_score(y_test , xgb_predicted)\n",
    "\n",
    "\n",
    "print(\"F1 Score: {:6.2f}%\".format(100*xgb_f1))\n",
    "print(\"Precision: {:6.2f}%\".format(100*xgb_pre))\n",
    "print(\"Accuracy: {:6.2f}%\".format(100*xgb_acc))\n",
    "print(\"Recall: {:6.2f}%\".format(100*xgb_rec))\n"
   ]
  },
  {
   "cell_type": "code",
   "execution_count": 1529,
   "id": "da4c2099",
   "metadata": {},
   "outputs": [
    {
     "data": {
      "image/png": "[encoded data removed]",
      "text/plain": [
       "<Figure size 450x300 with 2 Axes>"
      ]
     },
     "metadata": {
      "needs_background": "light"
     },
     "output_type": "display_data"
    }
   ],
   "source": [
    "#Confusion matrix to show results from chosen model\n",
    "xgb_cm = confusion_matrix(y_test, xgb_predicted)\n",
    "plt.figure(dpi=75)\n",
    "sns.heatmap(xgb_cm, cmap=plt.cm.Blues, annot=True, square=True, fmt = 'd',\n",
    "           xticklabels=['Default','Current'],\n",
    "           yticklabels=['Default','Current'])\n",
    "plt.xlabel('Predicted Status')\n",
    "plt.ylabel('Actual Status')\n",
    "plt.title('Confusion matrix')\n",
    "plt.yticks(rotation=0);"
   ]
  },
  {
   "cell_type": "code",
   "execution_count": 1508,
   "id": "a76f8736",
   "metadata": {},
   "outputs": [
    {
     "data": {
      "image/png": "[encoded data removed]",
      "text/plain": [
       "<Figure size 450x300 with 2 Axes>"
      ]
     },
     "metadata": {
      "needs_background": "light"
     },
     "output_type": "display_data"
    }
   ],
   "source": [
    "threshold = .90\n",
    "\n",
    "rf_prob = rf.predict_proba(X_test)\n",
    "rf_predicted = (rf_prob[:,1] >= threshold).astype('int')\n",
    "\n",
    "#Confusion matrix to show results from chosen model\n",
    "rf_cm = confusion_matrix(y_test, rf_predicted)\n",
    "plt.figure(dpi=75)\n",
    "sns.heatmap(rf_cm, cmap=plt.cm.Blues, annot=True, square=True, fmt = 'd',\n",
    "           xticklabels=['Default','Current'],\n",
    "           yticklabels=['Default','Current'])\n",
    "plt.xlabel('Predicted Status')\n",
    "plt.ylabel('Actual Status')\n",
    "plt.title('Confusion matrix')\n",
    "plt.yticks(rotation=0);"
   ]
  },
  {
   "cell_type": "code",
   "execution_count": 1516,
   "id": "939daf0a",
   "metadata": {},
   "outputs": [
    {
     "data": {
      "image/png": "[encoded data removed]",
      "text/plain": [
       "<Figure size 450x300 with 2 Axes>"
      ]
     },
     "metadata": {
      "needs_background": "light"
     },
     "output_type": "display_data"
    }
   ],
   "source": [
    "threshold = .9\n",
    "\n",
    "kNN_prob = kNN.predict_proba(X_test)\n",
    "kNN_predicted = (kNN_prob[:,1] >= threshold).astype('int')\n",
    "\n",
    "#Confusion matrix to show results from chosen model\n",
    "kNN_cm = confusion_matrix(y_test, kNN_predicted)\n",
    "plt.figure(dpi=75)\n",
    "sns.heatmap(kNN_cm, cmap=plt.cm.Blues, annot=True, square=True, fmt = 'd',\n",
    "           xticklabels=['Default','Current'],\n",
    "           yticklabels=['Default','Current'])\n",
    "plt.xlabel('Predicted Status')\n",
    "plt.ylabel('Actual Status')\n",
    "plt.title('Confusion matrix')\n",
    "plt.yticks(rotation=0);"
   ]
  },
  {
   "cell_type": "code",
   "execution_count": 1510,
   "id": "65e0cf03",
   "metadata": {},
   "outputs": [
    {
     "data": {
      "image/png": "[encoded data removed]",
      "text/plain": [
       "<Figure size 450x300 with 2 Axes>"
      ]
     },
     "metadata": {
      "needs_background": "light"
     },
     "output_type": "display_data"
    }
   ],
   "source": [
    "threshold = .89\n",
    "\n",
    "lr_prob = lr.predict_proba(X_test)\n",
    "lr_predicted = (lr_prob[:,1] >= threshold).astype('int')\n",
    "\n",
    "#Confusion matrix to show results from chosen model\n",
    "lr_cm = confusion_matrix(y_test, lr_predicted)\n",
    "plt.figure(dpi=75)\n",
    "sns.heatmap(lr_cm, cmap=plt.cm.Blues, annot=True, square=True, fmt = 'd',\n",
    "           xticklabels=['Default','Current'],\n",
    "           yticklabels=['Default','Current'])\n",
    "plt.xlabel('Predicted Status')\n",
    "plt.ylabel('Actual Status')\n",
    "plt.title('Confusion matrix')\n",
    "plt.yticks(rotation=0);"
   ]
  },
  {
   "cell_type": "code",
   "execution_count": 1535,
   "id": "1daf9543",
   "metadata": {},
   "outputs": [
    {
     "name": "stdout",
     "output_type": "stream",
     "text": [
      "Average interest payment: $185.76\n",
      "Average loan term: 43.29\n",
      "Average loan amount: $16,241.59\n"
     ]
    }
   ],
   "source": [
    "#ARR Calculation\n",
    "int_pmt = ((X['loan_amnt'].mean() * X['int_rate'].mean())/12)\n",
    "avg_term = (X['term'].mean())\n",
    "avg_loan_size = (X['loan_amnt'].mean())\n",
    "\n",
    "print(\"Average interest payment: ${:2,.2f}\".format(int_pmt))\n",
    "print(\"Average loan term: {:2,.2f}\".format(avg_term))\n",
    "print(\"Average loan amount: ${:2,.2f}\".format(avg_loan_size))"
   ]
  },
  {
   "cell_type": "code",
   "execution_count": 1530,
   "id": "16690bc4",
   "metadata": {},
   "outputs": [
    {
     "name": "stdout",
     "output_type": "stream",
     "text": [
      "0.11699947674656763\n"
     ]
    }
   ],
   "source": [
    "#Calculate ARR based on prediction recall and precision of each of the four models\n",
    "RoR = (((xgb_cm[1][1] + xgb_cm[0][1]) * avg_loan_size) + (xgb_cm[1][1] * int_pmt * avg_term) - (xgb_cm[0][1] * avg_loan_size)) / ((xgb_cm[1][1] + xgb_cm[0][1]) * avg_loan_size)\n",
    "xgb_ARR = RoR**(1/(avg_term/12)) - 1\n",
    "print(xgb_ARR)"
   ]
  },
  {
   "cell_type": "code",
   "execution_count": 1531,
   "id": "44a53cae",
   "metadata": {},
   "outputs": [
    {
     "name": "stdout",
     "output_type": "stream",
     "text": [
      "0.10689555175864873\n"
     ]
    }
   ],
   "source": [
    "RoR = (((lr_cm[1][1] + lr_cm[0][1]) * avg_loan_size) + (lr_cm[1][1] * int_pmt * avg_term) - (lr_cm[0][1] * avg_loan_size)) / ((lr_cm[1][1] + lr_cm[0][1]) * avg_loan_size)\n",
    "lr_ARR = RoR**(1/(avg_term/12)) - 1\n",
    "\n",
    "print(lr_ARR)"
   ]
  },
  {
   "cell_type": "code",
   "execution_count": 1532,
   "id": "b607c2d4",
   "metadata": {},
   "outputs": [
    {
     "name": "stdout",
     "output_type": "stream",
     "text": [
      "0.10307575822509896\n"
     ]
    }
   ],
   "source": [
    "RoR = (((kNN_cm[1][1] + kNN_cm[0][1]) * avg_loan_size) + (kNN_cm[1][1] * int_pmt * avg_term) - (kNN_cm[0][1] * avg_loan_size)) / ((kNN_cm[1][1] + kNN_cm[0][1]) * avg_loan_size)\n",
    "kNN_ARR = RoR**(1/(avg_term/12)) - 1\n",
    "\n",
    "print(kNN_ARR)"
   ]
  },
  {
   "cell_type": "code",
   "execution_count": 1533,
   "id": "39cc918a",
   "metadata": {},
   "outputs": [
    {
     "name": "stdout",
     "output_type": "stream",
     "text": [
      "0.11691165394136105\n"
     ]
    }
   ],
   "source": [
    "RoR = (((rf_cm[1][1] + rf_cm[0][1]) * avg_loan_size) + (rf_cm[1][1] * int_pmt * avg_term) - (rf_cm[0][1] * avg_loan_size)) / ((rf_cm[1][1] + rf_cm[0][1]) * avg_loan_size)\n",
    "rf_ARR = RoR**(1/(avg_term/12)) - 1\n",
    "\n",
    "print(rf_ARR)"
   ]
  },
  {
   "cell_type": "code",
   "execution_count": 1534,
   "id": "7a76e0ae",
   "metadata": {},
   "outputs": [
    {
     "name": "stdout",
     "output_type": "stream",
     "text": [
      "XGBoost ARR Projection - Initial Investment of: $5,343,482 and ARR of: 11.70%\n",
      "LogReg ARR Projection - Initial Investment of: $5,538,381: and ARR of: 10.69%\n",
      "kNN ARR Projection - Initial Investment of: $382,375,696: and ARR of: 10.31%\n",
      "Random Forest ARR Projection - Initial Investment of: $4,888,718: and ARR of:11.69%\n"
     ]
    }
   ],
   "source": [
    "print(\"XGBoost ARR Projection - Initial Investment of: ${:2,.0f}\".format((xgb_cm[1][1] + xgb_cm[0][1]) * avg_loan_size), \"and ARR of: {:2.2f}%\".format(100*xgb_ARR))\n",
    "print(\"LogReg ARR Projection - Initial Investment of: ${:2,.0f}:\".format((lr_cm[1][1] + lr_cm[0][1]) * avg_loan_size),\"and ARR of: {:2.2f}%\".format(100*lr_ARR))\n",
    "print(\"kNN ARR Projection - Initial Investment of: ${:2,.0f}:\".format((kNN_cm[1][1] + kNN_cm[0][1]) * avg_loan_size), \"and ARR of: {:2.2f}%\".format(100*kNN_ARR))\n",
    "print(\"Random Forest ARR Projection - Initial Investment of: ${:2,.0f}:\".format((rf_cm[1][1] + rf_cm[0][1]) * avg_loan_size),\"and ARR of:{:2.2f}%\".format(100*rf_ARR))"
   ]
  },
  {
   "cell_type": "code",
   "execution_count": 1445,
   "id": "810072c0",
   "metadata": {},
   "outputs": [
    {
     "name": "stdout",
     "output_type": "stream",
     "text": [
      "140\n"
     ]
    }
   ],
   "source": [
    "print(lr_cm[1][1] + lr_cm[0][1])"
   ]
  },
  {
   "cell_type": "code",
   "execution_count": 1392,
   "id": "3bdfddcb",
   "metadata": {},
   "outputs": [
    {
     "name": "stdout",
     "output_type": "stream",
     "text": [
      "1    800173\n",
      "0     44178\n",
      "Name: loan_status, dtype: int64\n"
     ]
    },
    {
     "data": {
      "image/png": "[encoded data removed]",
      "text/plain": [
       "<Figure size 432x288 with 1 Axes>"
      ]
     },
     "metadata": {
      "needs_background": "light"
     },
     "output_type": "display_data"
    }
   ],
   "source": [
    "y.value_counts().sort_index().plot.bar(x='Target Value', y='Number of Occurrences', title = 'Target Feature: y')\n",
    "print(y.value_counts())"
   ]
  },
  {
   "cell_type": "code",
   "execution_count": 1316,
   "id": "e3618ea9",
   "metadata": {
    "scrolled": true
   },
   "outputs": [
    {
     "name": "stdout",
     "output_type": "stream",
     "text": [
      "0    26306\n",
      "1    26306\n",
      "Name: loan_status, dtype: int64\n"
     ]
    },
    {
     "data": {
      "image/png": "[encoded data removed]",
      "text/plain": [
       "<Figure size 432x288 with 1 Axes>"
      ]
     },
     "metadata": {
      "needs_background": "light"
     },
     "output_type": "display_data"
    }
   ],
   "source": [
    "y_under.value_counts().sort_index().plot.bar(x='Target Value', y='Number of Occurrences', title = 'Target Feature: y_train')\n",
    "print(y_under.value_counts())"
   ]
  },
  {
   "cell_type": "code",
   "execution_count": 1318,
   "id": "cac56f6b",
   "metadata": {},
   "outputs": [
    {
     "name": "stdout",
     "output_type": "stream",
     "text": [
      "1    159868\n",
      "0      9002\n",
      "Name: loan_status, dtype: int64\n"
     ]
    },
    {
     "data": {
      "image/png": "[encoded data removed]",
      "text/plain": [
       "<Figure size 432x288 with 1 Axes>"
      ]
     },
     "metadata": {
      "needs_background": "light"
     },
     "output_type": "display_data"
    }
   ],
   "source": [
    "y_val.value_counts().sort_index().plot.bar(x='Target Value', y='Number of Occurrences', title = 'Target Feature: y_validation')\n",
    "print(y_val.value_counts())"
   ]
  },
  {
   "cell_type": "code",
   "execution_count": 1320,
   "id": "6b96399b",
   "metadata": {},
   "outputs": [
    {
     "name": "stdout",
     "output_type": "stream",
     "text": [
      "1    160001\n",
      "0      8870\n",
      "Name: loan_status, dtype: int64\n"
     ]
    },
    {
     "data": {
      "image/png": "[encoded data removed]",
      "text/plain": [
       "<Figure size 432x288 with 1 Axes>"
      ]
     },
     "metadata": {
      "needs_background": "light"
     },
     "output_type": "display_data"
    }
   ],
   "source": [
    "y_test.value_counts().sort_index().plot.bar(x='Target Value', y='Number of Occurrences' , title = 'Target Feature: y_test')\n",
    "print(y_test.value_counts())"
   ]
  },
  {
   "cell_type": "code",
   "execution_count": null,
   "id": "f467c016",
   "metadata": {},
   "outputs": [],
   "source": []
  }
 ],
 "metadata": {
  "kernelspec": {
   "display_name": "Python 3",
   "language": "python",
   "name": "python3"
  },
  "language_info": {
   "codemirror_mode": {
    "name": "ipython",
    "version": 3
   },
   "file_extension": ".py",
   "mimetype": "text/x-python",
   "name": "python",
   "nbconvert_exporter": "python",
   "pygments_lexer": "ipython3",
   "version": "3.8.8"
  }
 },
 "nbformat": 4,
 "nbformat_minor": 5
}
