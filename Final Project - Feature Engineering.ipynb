{
 "cells": [
  {
   "cell_type": "code",
   "execution_count": 2,
   "id": "0bd2be9c",
   "metadata": {},
   "outputs": [],
   "source": [
    "import pandas as pd\n"
   ]
  },
  {
   "cell_type": "code",
   "execution_count": 3,
   "id": "092f6326",
   "metadata": {},
   "outputs": [
    {
     "name": "stderr",
     "output_type": "stream",
     "text": [
      "C:\\Users\\jayju\\anaconda3\\lib\\site-packages\\IPython\\core\\interactiveshell.py:3165: DtypeWarning: Columns (17) have mixed types.Specify dtype option on import or set low_memory=False.\n",
      "  has_raised = await self.run_ast_nodes(code_ast.body, cell_name,\n"
     ]
    }
   ],
   "source": [
    "df = pd.read_csv('P2P_Macro_Data.csv')"
   ]
  },
  {
   "cell_type": "code",
   "execution_count": 4,
   "id": "cc4bd2e7",
   "metadata": {},
   "outputs": [
    {
     "data": {
      "text/html": [
       "<div>\n",
       "<style scoped>\n",
       "    .dataframe tbody tr th:only-of-type {\n",
       "        vertical-align: middle;\n",
       "    }\n",
       "\n",
       "    .dataframe tbody tr th {\n",
       "        vertical-align: top;\n",
       "    }\n",
       "\n",
       "    .dataframe thead th {\n",
       "        text-align: right;\n",
       "    }\n",
       "</style>\n",
       "<table border=\"1\" class=\"dataframe\">\n",
       "  <thead>\n",
       "    <tr style=\"text-align: right;\">\n",
       "      <th></th>\n",
       "      <th>loan_amnt</th>\n",
       "      <th>funded_amnt</th>\n",
       "      <th>funded_amnt_inv</th>\n",
       "      <th>term</th>\n",
       "      <th>int_rate</th>\n",
       "      <th>installment</th>\n",
       "      <th>grade</th>\n",
       "      <th>sub_grade</th>\n",
       "      <th>emp_title</th>\n",
       "      <th>emp_length</th>\n",
       "      <th>...</th>\n",
       "      <th>loan_status_5</th>\n",
       "      <th>meanopen_acc</th>\n",
       "      <th>FED_lag6</th>\n",
       "      <th>riskprem</th>\n",
       "      <th>loan_vol6m</th>\n",
       "      <th>loglvol_6m</th>\n",
       "      <th>issue_daily</th>\n",
       "      <th>issue_year</th>\n",
       "      <th>loan6m_median</th>\n",
       "      <th>loan_sum</th>\n",
       "    </tr>\n",
       "  </thead>\n",
       "  <tbody>\n",
       "    <tr>\n",
       "      <th>0</th>\n",
       "      <td>11875</td>\n",
       "      <td>11875</td>\n",
       "      <td>11875.0</td>\n",
       "      <td>36 months</td>\n",
       "      <td>0.1531</td>\n",
       "      <td>413.459990</td>\n",
       "      <td>C</td>\n",
       "      <td>C2</td>\n",
       "      <td>North Slope Borough</td>\n",
       "      <td>2 years</td>\n",
       "      <td>...</td>\n",
       "      <td>0</td>\n",
       "      <td>11</td>\n",
       "      <td>0.11</td>\n",
       "      <td>3.2075</td>\n",
       "      <td>321075</td>\n",
       "      <td>12.679430</td>\n",
       "      <td>01aug2012</td>\n",
       "      <td>2012</td>\n",
       "      <td>17885976</td>\n",
       "      <td>41624367104</td>\n",
       "    </tr>\n",
       "    <tr>\n",
       "      <th>1</th>\n",
       "      <td>11500</td>\n",
       "      <td>11500</td>\n",
       "      <td>11500.0</td>\n",
       "      <td>36 months</td>\n",
       "      <td>0.1849</td>\n",
       "      <td>418.590000</td>\n",
       "      <td>D</td>\n",
       "      <td>D2</td>\n",
       "      <td>Ulmers Burgess, Inc</td>\n",
       "      <td>1 year</td>\n",
       "      <td>...</td>\n",
       "      <td>0</td>\n",
       "      <td>11</td>\n",
       "      <td>0.11</td>\n",
       "      <td>3.2075</td>\n",
       "      <td>321075</td>\n",
       "      <td>12.679430</td>\n",
       "      <td>01aug2012</td>\n",
       "      <td>2012</td>\n",
       "      <td>17885976</td>\n",
       "      <td>41624367104</td>\n",
       "    </tr>\n",
       "    <tr>\n",
       "      <th>2</th>\n",
       "      <td>2300</td>\n",
       "      <td>2300</td>\n",
       "      <td>2300.0</td>\n",
       "      <td>36 months</td>\n",
       "      <td>0.0890</td>\n",
       "      <td>73.040001</td>\n",
       "      <td>A</td>\n",
       "      <td>A5</td>\n",
       "      <td>Metlakatla Indian Community</td>\n",
       "      <td>10+ years</td>\n",
       "      <td>...</td>\n",
       "      <td>0</td>\n",
       "      <td>11</td>\n",
       "      <td>0.11</td>\n",
       "      <td>3.2075</td>\n",
       "      <td>192200</td>\n",
       "      <td>12.166292</td>\n",
       "      <td>01sep2012</td>\n",
       "      <td>2012</td>\n",
       "      <td>17885976</td>\n",
       "      <td>41624367104</td>\n",
       "    </tr>\n",
       "    <tr>\n",
       "      <th>3</th>\n",
       "      <td>19600</td>\n",
       "      <td>19600</td>\n",
       "      <td>19600.0</td>\n",
       "      <td>36 months</td>\n",
       "      <td>0.1409</td>\n",
       "      <td>670.739990</td>\n",
       "      <td>B</td>\n",
       "      <td>B5</td>\n",
       "      <td>USAF</td>\n",
       "      <td>7 years</td>\n",
       "      <td>...</td>\n",
       "      <td>6</td>\n",
       "      <td>11</td>\n",
       "      <td>0.09</td>\n",
       "      <td>3.2150</td>\n",
       "      <td>192200</td>\n",
       "      <td>12.166292</td>\n",
       "      <td>01sep2012</td>\n",
       "      <td>2012</td>\n",
       "      <td>17885976</td>\n",
       "      <td>41624367104</td>\n",
       "    </tr>\n",
       "    <tr>\n",
       "      <th>4</th>\n",
       "      <td>3900</td>\n",
       "      <td>3900</td>\n",
       "      <td>3900.0</td>\n",
       "      <td>36 months</td>\n",
       "      <td>0.1311</td>\n",
       "      <td>131.620000</td>\n",
       "      <td>B</td>\n",
       "      <td>B4</td>\n",
       "      <td>US Army</td>\n",
       "      <td>7 years</td>\n",
       "      <td>...</td>\n",
       "      <td>6</td>\n",
       "      <td>11</td>\n",
       "      <td>0.09</td>\n",
       "      <td>3.2150</td>\n",
       "      <td>192200</td>\n",
       "      <td>12.166292</td>\n",
       "      <td>01sep2012</td>\n",
       "      <td>2012</td>\n",
       "      <td>17885976</td>\n",
       "      <td>41624367104</td>\n",
       "    </tr>\n",
       "  </tbody>\n",
       "</table>\n",
       "<p>5 rows × 195 columns</p>\n",
       "</div>"
      ],
      "text/plain": [
       "   loan_amnt  funded_amnt  funded_amnt_inv        term  int_rate  installment  \\\n",
       "0      11875        11875          11875.0   36 months    0.1531   413.459990   \n",
       "1      11500        11500          11500.0   36 months    0.1849   418.590000   \n",
       "2       2300         2300           2300.0   36 months    0.0890    73.040001   \n",
       "3      19600        19600          19600.0   36 months    0.1409   670.739990   \n",
       "4       3900         3900           3900.0   36 months    0.1311   131.620000   \n",
       "\n",
       "  grade sub_grade                    emp_title emp_length  ... loan_status_5  \\\n",
       "0     C        C2          North Slope Borough    2 years  ...             0   \n",
       "1     D        D2          Ulmers Burgess, Inc     1 year  ...             0   \n",
       "2     A        A5  Metlakatla Indian Community  10+ years  ...             0   \n",
       "3     B        B5                         USAF    7 years  ...             6   \n",
       "4     B        B4                      US Army    7 years  ...             6   \n",
       "\n",
       "   meanopen_acc FED_lag6 riskprem loan_vol6m loglvol_6m  issue_daily  \\\n",
       "0            11     0.11   3.2075     321075  12.679430    01aug2012   \n",
       "1            11     0.11   3.2075     321075  12.679430    01aug2012   \n",
       "2            11     0.11   3.2075     192200  12.166292    01sep2012   \n",
       "3            11     0.09   3.2150     192200  12.166292    01sep2012   \n",
       "4            11     0.09   3.2150     192200  12.166292    01sep2012   \n",
       "\n",
       "  issue_year loan6m_median     loan_sum  \n",
       "0       2012      17885976  41624367104  \n",
       "1       2012      17885976  41624367104  \n",
       "2       2012      17885976  41624367104  \n",
       "3       2012      17885976  41624367104  \n",
       "4       2012      17885976  41624367104  \n",
       "\n",
       "[5 rows x 195 columns]"
      ]
     },
     "execution_count": 4,
     "metadata": {},
     "output_type": "execute_result"
    }
   ],
   "source": [
    "df.head()"
   ]
  },
  {
   "cell_type": "code",
   "execution_count": 7,
   "id": "6ad38aae",
   "metadata": {},
   "outputs": [],
   "source": [
    "dataset = df[['acc_open_past_24mths', 'addr_state', 'annual_inc', \n",
    "              'application_type', 'avg_cur_bal', 'emp_length', 'dti', \n",
    "              'grade', 'home_ownership', 'il_util', 'inq_fi', 'inq_last_12m', \n",
    "              'int_rate', 'installment', 'issue_d', 'loan_status', 'loan_amnt', 'open_acc',\n",
    "              'revol_bal', 'revol_util', 'term', 'total_acc', 'verification_status']]"
   ]
  },
  {
   "cell_type": "code",
   "execution_count": 8,
   "id": "80582962",
   "metadata": {},
   "outputs": [
    {
     "data": {
      "text/plain": [
       "(2703430, 23)"
      ]
     },
     "execution_count": 8,
     "metadata": {},
     "output_type": "execute_result"
    }
   ],
   "source": [
    "dataset.shape"
   ]
  },
  {
   "cell_type": "code",
   "execution_count": 1,
   "id": "d6b351c5",
   "metadata": {},
   "outputs": [
    {
     "ename": "NameError",
     "evalue": "name 'dataset' is not defined",
     "output_type": "error",
     "traceback": [
      "\u001b[1;31m---------------------------------------------------------------------------\u001b[0m",
      "\u001b[1;31mNameError\u001b[0m                                 Traceback (most recent call last)",
      "\u001b[1;32m<ipython-input-1-69f548b68d52>\u001b[0m in \u001b[0;36m<module>\u001b[1;34m\u001b[0m\n\u001b[1;32m----> 1\u001b[1;33m \u001b[0mdataset\u001b[0m\u001b[1;33m.\u001b[0m\u001b[0mfillna\u001b[0m\u001b[1;33m(\u001b[0m\u001b[0mdataset\u001b[0m\u001b[1;33m.\u001b[0m\u001b[0mmean\u001b[0m\u001b[1;33m(\u001b[0m\u001b[1;33m)\u001b[0m\u001b[1;33m)\u001b[0m\u001b[1;33m\u001b[0m\u001b[1;33m\u001b[0m\u001b[0m\n\u001b[0m\u001b[0;32m      2\u001b[0m \u001b[0mdataset\u001b[0m\u001b[1;33m.\u001b[0m\u001b[0mshape\u001b[0m\u001b[1;33m\u001b[0m\u001b[1;33m\u001b[0m\u001b[0m\n",
      "\u001b[1;31mNameError\u001b[0m: name 'dataset' is not defined"
     ]
    }
   ],
   "source": [
    "dataset.dropna(inplace = True)\n",
    "dataset.shape"
   ]
  },
  {
   "cell_type": "code",
   "execution_count": 9,
   "id": "76e33084",
   "metadata": {},
   "outputs": [
    {
     "name": "stdout",
     "output_type": "stream",
     "text": [
      "<class 'pandas.core.frame.DataFrame'>\n",
      "Int64Index: 1527586 entries, 1945 to 2703428\n",
      "Data columns (total 23 columns):\n",
      " #   Column                Non-Null Count    Dtype  \n",
      "---  ------                --------------    -----  \n",
      " 0   acc_open_past_24mths  1527586 non-null  int64  \n",
      " 1   addr_state            1527586 non-null  object \n",
      " 2   annual_inc            1527586 non-null  float64\n",
      " 3   application_type      1527586 non-null  object \n",
      " 4   avg_cur_bal           1527586 non-null  int64  \n",
      " 5   emp_length            1527586 non-null  object \n",
      " 6   dti                   1527586 non-null  float64\n",
      " 7   grade                 1527586 non-null  object \n",
      " 8   home_ownership        1527586 non-null  object \n",
      " 9   il_util               1527586 non-null  float64\n",
      " 10  inq_fi                1527586 non-null  float64\n",
      " 11  inq_last_12m          1527586 non-null  float64\n",
      " 12  int_rate              1527586 non-null  float64\n",
      " 13  installment           1527586 non-null  float64\n",
      " 14  issue_d               1527586 non-null  object \n",
      " 15  loan_status           1527586 non-null  object \n",
      " 16  loan_amnt             1527586 non-null  int64  \n",
      " 17  open_acc              1527586 non-null  int64  \n",
      " 18  revol_bal             1527586 non-null  int64  \n",
      " 19  revol_util            1527586 non-null  float64\n",
      " 20  term                  1527586 non-null  object \n",
      " 21  total_acc             1527586 non-null  int64  \n",
      " 22  verification_status   1527586 non-null  object \n",
      "dtypes: float64(8), int64(6), object(9)\n",
      "memory usage: 279.7+ MB\n"
     ]
    }
   ],
   "source": [
    "dataset.info()"
   ]
  },
  {
   "cell_type": "code",
   "execution_count": 38,
   "id": "30a863a3",
   "metadata": {},
   "outputs": [
    {
     "ename": "OSError",
     "evalue": "[Errno 28] No space left on device",
     "output_type": "error",
     "traceback": [
      "\u001b[1;31m---------------------------------------------------------------------------\u001b[0m",
      "\u001b[1;31mOSError\u001b[0m                                   Traceback (most recent call last)",
      "\u001b[1;32m<ipython-input-38-30d3c18011aa>\u001b[0m in \u001b[0;36m<module>\u001b[1;34m\u001b[0m\n\u001b[1;32m----> 1\u001b[1;33m \u001b[0mdataset\u001b[0m\u001b[1;33m.\u001b[0m\u001b[0mto_csv\u001b[0m\u001b[1;33m(\u001b[0m\u001b[1;34m'raw_features.csv'\u001b[0m\u001b[1;33m)\u001b[0m\u001b[1;33m\u001b[0m\u001b[1;33m\u001b[0m\u001b[0m\n\u001b[0m",
      "\u001b[1;32m~\\anaconda3\\lib\\site-packages\\pandas\\core\\generic.py\u001b[0m in \u001b[0;36mto_csv\u001b[1;34m(self, path_or_buf, sep, na_rep, float_format, columns, header, index, index_label, mode, encoding, compression, quoting, quotechar, line_terminator, chunksize, date_format, doublequote, escapechar, decimal, errors, storage_options)\u001b[0m\n\u001b[0;32m   3385\u001b[0m         )\n\u001b[0;32m   3386\u001b[0m \u001b[1;33m\u001b[0m\u001b[0m\n\u001b[1;32m-> 3387\u001b[1;33m         return DataFrameRenderer(formatter).to_csv(\n\u001b[0m\u001b[0;32m   3388\u001b[0m             \u001b[0mpath_or_buf\u001b[0m\u001b[1;33m,\u001b[0m\u001b[1;33m\u001b[0m\u001b[1;33m\u001b[0m\u001b[0m\n\u001b[0;32m   3389\u001b[0m             \u001b[0mline_terminator\u001b[0m\u001b[1;33m=\u001b[0m\u001b[0mline_terminator\u001b[0m\u001b[1;33m,\u001b[0m\u001b[1;33m\u001b[0m\u001b[1;33m\u001b[0m\u001b[0m\n",
      "\u001b[1;32m~\\anaconda3\\lib\\site-packages\\pandas\\io\\formats\\format.py\u001b[0m in \u001b[0;36mto_csv\u001b[1;34m(self, path_or_buf, encoding, sep, columns, index_label, mode, compression, quoting, quotechar, line_terminator, chunksize, date_format, doublequote, escapechar, errors, storage_options)\u001b[0m\n\u001b[0;32m   1081\u001b[0m             \u001b[0mformatter\u001b[0m\u001b[1;33m=\u001b[0m\u001b[0mself\u001b[0m\u001b[1;33m.\u001b[0m\u001b[0mfmt\u001b[0m\u001b[1;33m,\u001b[0m\u001b[1;33m\u001b[0m\u001b[1;33m\u001b[0m\u001b[0m\n\u001b[0;32m   1082\u001b[0m         )\n\u001b[1;32m-> 1083\u001b[1;33m         \u001b[0mcsv_formatter\u001b[0m\u001b[1;33m.\u001b[0m\u001b[0msave\u001b[0m\u001b[1;33m(\u001b[0m\u001b[1;33m)\u001b[0m\u001b[1;33m\u001b[0m\u001b[1;33m\u001b[0m\u001b[0m\n\u001b[0m\u001b[0;32m   1084\u001b[0m \u001b[1;33m\u001b[0m\u001b[0m\n\u001b[0;32m   1085\u001b[0m         \u001b[1;32mif\u001b[0m \u001b[0mcreated_buffer\u001b[0m\u001b[1;33m:\u001b[0m\u001b[1;33m\u001b[0m\u001b[1;33m\u001b[0m\u001b[0m\n",
      "\u001b[1;32m~\\anaconda3\\lib\\site-packages\\pandas\\io\\formats\\csvs.py\u001b[0m in \u001b[0;36msave\u001b[1;34m(self)\u001b[0m\n\u001b[0;32m    246\u001b[0m             )\n\u001b[0;32m    247\u001b[0m \u001b[1;33m\u001b[0m\u001b[0m\n\u001b[1;32m--> 248\u001b[1;33m             \u001b[0mself\u001b[0m\u001b[1;33m.\u001b[0m\u001b[0m_save\u001b[0m\u001b[1;33m(\u001b[0m\u001b[1;33m)\u001b[0m\u001b[1;33m\u001b[0m\u001b[1;33m\u001b[0m\u001b[0m\n\u001b[0m\u001b[0;32m    249\u001b[0m \u001b[1;33m\u001b[0m\u001b[0m\n\u001b[0;32m    250\u001b[0m     \u001b[1;32mdef\u001b[0m \u001b[0m_save\u001b[0m\u001b[1;33m(\u001b[0m\u001b[0mself\u001b[0m\u001b[1;33m)\u001b[0m \u001b[1;33m->\u001b[0m \u001b[1;32mNone\u001b[0m\u001b[1;33m:\u001b[0m\u001b[1;33m\u001b[0m\u001b[1;33m\u001b[0m\u001b[0m\n",
      "\u001b[1;32m~\\anaconda3\\lib\\site-packages\\pandas\\io\\formats\\csvs.py\u001b[0m in \u001b[0;36m_save\u001b[1;34m(self)\u001b[0m\n\u001b[0;32m    251\u001b[0m         \u001b[1;32mif\u001b[0m \u001b[0mself\u001b[0m\u001b[1;33m.\u001b[0m\u001b[0m_need_to_save_header\u001b[0m\u001b[1;33m:\u001b[0m\u001b[1;33m\u001b[0m\u001b[1;33m\u001b[0m\u001b[0m\n\u001b[0;32m    252\u001b[0m             \u001b[0mself\u001b[0m\u001b[1;33m.\u001b[0m\u001b[0m_save_header\u001b[0m\u001b[1;33m(\u001b[0m\u001b[1;33m)\u001b[0m\u001b[1;33m\u001b[0m\u001b[1;33m\u001b[0m\u001b[0m\n\u001b[1;32m--> 253\u001b[1;33m         \u001b[0mself\u001b[0m\u001b[1;33m.\u001b[0m\u001b[0m_save_body\u001b[0m\u001b[1;33m(\u001b[0m\u001b[1;33m)\u001b[0m\u001b[1;33m\u001b[0m\u001b[1;33m\u001b[0m\u001b[0m\n\u001b[0m\u001b[0;32m    254\u001b[0m \u001b[1;33m\u001b[0m\u001b[0m\n\u001b[0;32m    255\u001b[0m     \u001b[1;32mdef\u001b[0m \u001b[0m_save_header\u001b[0m\u001b[1;33m(\u001b[0m\u001b[0mself\u001b[0m\u001b[1;33m)\u001b[0m \u001b[1;33m->\u001b[0m \u001b[1;32mNone\u001b[0m\u001b[1;33m:\u001b[0m\u001b[1;33m\u001b[0m\u001b[1;33m\u001b[0m\u001b[0m\n",
      "\u001b[1;32m~\\anaconda3\\lib\\site-packages\\pandas\\io\\formats\\csvs.py\u001b[0m in \u001b[0;36m_save_body\u001b[1;34m(self)\u001b[0m\n\u001b[0;32m    289\u001b[0m             \u001b[1;32mif\u001b[0m \u001b[0mstart_i\u001b[0m \u001b[1;33m>=\u001b[0m \u001b[0mend_i\u001b[0m\u001b[1;33m:\u001b[0m\u001b[1;33m\u001b[0m\u001b[1;33m\u001b[0m\u001b[0m\n\u001b[0;32m    290\u001b[0m                 \u001b[1;32mbreak\u001b[0m\u001b[1;33m\u001b[0m\u001b[1;33m\u001b[0m\u001b[0m\n\u001b[1;32m--> 291\u001b[1;33m             \u001b[0mself\u001b[0m\u001b[1;33m.\u001b[0m\u001b[0m_save_chunk\u001b[0m\u001b[1;33m(\u001b[0m\u001b[0mstart_i\u001b[0m\u001b[1;33m,\u001b[0m \u001b[0mend_i\u001b[0m\u001b[1;33m)\u001b[0m\u001b[1;33m\u001b[0m\u001b[1;33m\u001b[0m\u001b[0m\n\u001b[0m\u001b[0;32m    292\u001b[0m \u001b[1;33m\u001b[0m\u001b[0m\n\u001b[0;32m    293\u001b[0m     \u001b[1;32mdef\u001b[0m \u001b[0m_save_chunk\u001b[0m\u001b[1;33m(\u001b[0m\u001b[0mself\u001b[0m\u001b[1;33m,\u001b[0m \u001b[0mstart_i\u001b[0m\u001b[1;33m:\u001b[0m \u001b[0mint\u001b[0m\u001b[1;33m,\u001b[0m \u001b[0mend_i\u001b[0m\u001b[1;33m:\u001b[0m \u001b[0mint\u001b[0m\u001b[1;33m)\u001b[0m \u001b[1;33m->\u001b[0m \u001b[1;32mNone\u001b[0m\u001b[1;33m:\u001b[0m\u001b[1;33m\u001b[0m\u001b[1;33m\u001b[0m\u001b[0m\n",
      "\u001b[1;32m~\\anaconda3\\lib\\site-packages\\pandas\\io\\formats\\csvs.py\u001b[0m in \u001b[0;36m_save_chunk\u001b[1;34m(self, start_i, end_i)\u001b[0m\n\u001b[0;32m    300\u001b[0m \u001b[1;33m\u001b[0m\u001b[0m\n\u001b[0;32m    301\u001b[0m         \u001b[0mix\u001b[0m \u001b[1;33m=\u001b[0m \u001b[0mself\u001b[0m\u001b[1;33m.\u001b[0m\u001b[0mdata_index\u001b[0m\u001b[1;33m[\u001b[0m\u001b[0mslicer\u001b[0m\u001b[1;33m]\u001b[0m\u001b[1;33m.\u001b[0m\u001b[0m_format_native_types\u001b[0m\u001b[1;33m(\u001b[0m\u001b[1;33m**\u001b[0m\u001b[0mself\u001b[0m\u001b[1;33m.\u001b[0m\u001b[0m_number_format\u001b[0m\u001b[1;33m)\u001b[0m\u001b[1;33m\u001b[0m\u001b[1;33m\u001b[0m\u001b[0m\n\u001b[1;32m--> 302\u001b[1;33m         \u001b[0mlibwriters\u001b[0m\u001b[1;33m.\u001b[0m\u001b[0mwrite_csv_rows\u001b[0m\u001b[1;33m(\u001b[0m\u001b[0mdata\u001b[0m\u001b[1;33m,\u001b[0m \u001b[0mix\u001b[0m\u001b[1;33m,\u001b[0m \u001b[0mself\u001b[0m\u001b[1;33m.\u001b[0m\u001b[0mnlevels\u001b[0m\u001b[1;33m,\u001b[0m \u001b[0mself\u001b[0m\u001b[1;33m.\u001b[0m\u001b[0mcols\u001b[0m\u001b[1;33m,\u001b[0m \u001b[0mself\u001b[0m\u001b[1;33m.\u001b[0m\u001b[0mwriter\u001b[0m\u001b[1;33m)\u001b[0m\u001b[1;33m\u001b[0m\u001b[1;33m\u001b[0m\u001b[0m\n\u001b[0m",
      "\u001b[1;32mpandas\\_libs\\writers.pyx\u001b[0m in \u001b[0;36mpandas._libs.writers.write_csv_rows\u001b[1;34m()\u001b[0m\n",
      "\u001b[1;31mOSError\u001b[0m: [Errno 28] No space left on device"
     ]
    }
   ],
   "source": [
    "dataset.to_csv('raw_features.csv')"
   ]
  },
  {
   "cell_type": "markdown",
   "id": "4fd94364",
   "metadata": {},
   "source": [
    "### Checking unique value types"
   ]
  },
  {
   "cell_type": "code",
   "execution_count": 10,
   "id": "21da23d0",
   "metadata": {},
   "outputs": [
    {
     "data": {
      "text/plain": [
       "Current               1261160\n",
       "Fully Paid             189360\n",
       "Charged Off             38493\n",
       "Late (31-120 days)      21509\n",
       "In Grace Period         11801\n",
       "Late (16-30 days)        5178\n",
       "Default                    85\n",
       "Name: loan_status, dtype: int64"
      ]
     },
     "execution_count": 10,
     "metadata": {},
     "output_type": "execute_result"
    }
   ],
   "source": [
    "dataset.loan_status.value_counts()"
   ]
  },
  {
   "cell_type": "code",
   "execution_count": 37,
   "id": "56fd4fb8",
   "metadata": {},
   "outputs": [
    {
     "data": {
      "image/png": "[encoded data removed]",
      "text/plain": [
       "<Figure size 432x288 with 1 Axes>"
      ]
     },
     "metadata": {
      "needs_background": "light"
     },
     "output_type": "display_data"
    }
   ],
   "source": [
    "import matplotlib.pyplot as plt\n",
    "\n",
    "\n",
    "plt = df.loan_status.value_counts().sort_index().plot.barh(title = 'Loan Status Counts' ,\n",
    "                                                   log = True)"
   ]
  },
  {
   "cell_type": "code",
   "execution_count": null,
   "id": "e8b22b0f",
   "metadata": {},
   "outputs": [],
   "source": [
    "dataset.loan_status.value_counts()"
   ]
  },
  {
   "cell_type": "code",
   "execution_count": 11,
   "id": "b954c6db",
   "metadata": {},
   "outputs": [
    {
     "data": {
      "text/plain": [
       "Individual    1037035\n",
       "INDIVIDUAL     346363\n",
       "Joint App      134760\n",
       "JOINT            6972\n",
       "DIRECT_PAY       2456\n",
       "Name: application_type, dtype: int64"
      ]
     },
     "execution_count": 11,
     "metadata": {},
     "output_type": "execute_result"
    }
   ],
   "source": [
    "dataset.application_type.value_counts()"
   ]
  },
  {
   "cell_type": "code",
   "execution_count": 12,
   "id": "a5abe696",
   "metadata": {},
   "outputs": [
    {
     "data": {
      "text/plain": [
       " 36 months    1064311\n",
       " 60 months     463275\n",
       "Name: term, dtype: int64"
      ]
     },
     "execution_count": 12,
     "metadata": {},
     "output_type": "execute_result"
    }
   ],
   "source": [
    "dataset.term.value_counts()"
   ]
  },
  {
   "cell_type": "code",
   "execution_count": 13,
   "id": "203003bb",
   "metadata": {},
   "outputs": [
    {
     "data": {
      "text/plain": [
       "Source Verified    620450\n",
       "Not Verified       593431\n",
       "Verified           313705\n",
       "Name: verification_status, dtype: int64"
      ]
     },
     "execution_count": 13,
     "metadata": {},
     "output_type": "execute_result"
    }
   ],
   "source": [
    "dataset.verification_status.value_counts()"
   ]
  },
  {
   "cell_type": "code",
   "execution_count": 64,
   "id": "dc2a7c15",
   "metadata": {},
   "outputs": [
    {
     "data": {
      "text/plain": [
       "1       774832\n",
       "2       649058\n",
       "3       182046\n",
       "NONE        28\n",
       "Name: home_ownership, dtype: int64"
      ]
     },
     "execution_count": 64,
     "metadata": {},
     "output_type": "execute_result"
    }
   ],
   "source": [
    "dataset.home_ownership.value_counts()"
   ]
  },
  {
   "cell_type": "code",
   "execution_count": 82,
   "id": "7345f00c",
   "metadata": {},
   "outputs": [
    {
     "data": {
      "text/plain": [
       "10    536524\n",
       "2     144473\n",
       "0     132951\n",
       "3     128377\n",
       "1     110342\n",
       "5      99326\n",
       "4      96300\n",
       "6      72099\n",
       "7      65391\n",
       "8      64956\n",
       "9      55340\n",
       "Name: emp_length, dtype: int64"
      ]
     },
     "execution_count": 82,
     "metadata": {},
     "output_type": "execute_result"
    }
   ],
   "source": [
    "dataset.emp_length.value_counts()"
   ]
  },
  {
   "cell_type": "code",
   "execution_count": 16,
   "id": "21f0e073",
   "metadata": {},
   "outputs": [
    {
     "data": {
      "text/plain": [
       " 36 months    1064311\n",
       " 60 months     463275\n",
       "Name: term, dtype: int64"
      ]
     },
     "execution_count": 16,
     "metadata": {},
     "output_type": "execute_result"
    }
   ],
   "source": [
    "dataset.term.value_counts()"
   ]
  },
  {
   "cell_type": "code",
   "execution_count": 17,
   "id": "ec87b2b2",
   "metadata": {},
   "outputs": [
    {
     "data": {
      "text/plain": [
       "B    449531\n",
       "C    428115\n",
       "A    355892\n",
       "D    214384\n",
       "E     57533\n",
       "F     16295\n",
       "G      5836\n",
       "Name: grade, dtype: int64"
      ]
     },
     "execution_count": 17,
     "metadata": {},
     "output_type": "execute_result"
    }
   ],
   "source": [
    "dataset.grade.value_counts()"
   ]
  },
  {
   "cell_type": "code",
   "execution_count": 18,
   "id": "a22ad641",
   "metadata": {},
   "outputs": [
    {
     "data": {
      "text/plain": [
       "Current               1261160\n",
       "Fully Paid             189360\n",
       "Charged Off             38493\n",
       "Late (31-120 days)      21509\n",
       "In Grace Period         11801\n",
       "Late (16-30 days)        5178\n",
       "Default                    85\n",
       "Name: loan_status, dtype: int64"
      ]
     },
     "execution_count": 18,
     "metadata": {},
     "output_type": "execute_result"
    }
   ],
   "source": [
    "dataset.loan_status.value_counts()"
   ]
  },
  {
   "cell_type": "markdown",
   "id": "2eae0ea9",
   "metadata": {},
   "source": [
    "### Change data types"
   ]
  },
  {
   "cell_type": "markdown",
   "id": "2efe90ae",
   "metadata": {},
   "source": [
    "#### APPLICATION_TYPE - Filter only Individual loans"
   ]
  },
  {
   "cell_type": "code",
   "execution_count": 45,
   "id": "a5c6c5c6",
   "metadata": {},
   "outputs": [],
   "source": [
    "dataset.application_type.replace(to_replace = 'INDIVIDUAL' , value = 'Individual' , inplace = True)"
   ]
  },
  {
   "cell_type": "code",
   "execution_count": 46,
   "id": "735feb1e",
   "metadata": {},
   "outputs": [],
   "source": [
    "dataset = dataset[dataset.application_type.str.startswith('Individual')]"
   ]
  },
  {
   "cell_type": "code",
   "execution_count": 47,
   "id": "962ed8ca",
   "metadata": {},
   "outputs": [
    {
     "data": {
      "text/plain": [
       "Individual    1607771\n",
       "Name: application_type, dtype: int64"
      ]
     },
     "execution_count": 47,
     "metadata": {},
     "output_type": "execute_result"
    }
   ],
   "source": [
    "dataset.application_type.value_counts()"
   ]
  },
  {
   "cell_type": "markdown",
   "id": "36622d7b",
   "metadata": {},
   "source": [
    "#### LOAN_STATUS - Change loan status classification to Current, Default, or Fully Paid"
   ]
  },
  {
   "cell_type": "code",
   "execution_count": 10,
   "id": "91ca49dd",
   "metadata": {},
   "outputs": [
    {
     "name": "stderr",
     "output_type": "stream",
     "text": [
      "C:\\Users\\jayju\\anaconda3\\lib\\site-packages\\pandas\\core\\series.py:4509: SettingWithCopyWarning: \n",
      "A value is trying to be set on a copy of a slice from a DataFrame\n",
      "\n",
      "See the caveats in the documentation: https://pandas.pydata.org/pandas-docs/stable/user_guide/indexing.html#returning-a-view-versus-a-copy\n",
      "  return super().replace(\n"
     ]
    }
   ],
   "source": [
    "#Assumes any loans not paid on time is considered in \"Default\". Although not technically true, makes the analysis easier \n",
    "#and allows for the model to err on the side of caution\n",
    "\n",
    "#Grace Period loans = Current, technically not late\n",
    "dataset.loan_status.replace(to_replace = 'In Grace Period' , value = '1' , inplace = True)\n",
    "dataset.loan_status.replace(to_replace = 'Current' , value = '1' , inplace = True)\n",
    "dataset.loan_status.replace(to_replace = 'Fully Paid' , value = '1' , inplace = True)\n",
    "\n",
    "#Assumes any late loans means borrower is not credit worthy\n",
    "dataset.loan_status.replace(to_replace = 'Default' , value = '0' , inplace = True)\n",
    "dataset.loan_status.replace(to_replace = 'Charged Off' , value = '0' , inplace = True)\n",
    "dataset.loan_status.replace(to_replace = 'Late (31-120 days)' , value = '0' , inplace = True)\n",
    "dataset.loan_status.replace(to_replace = 'Late (16-30 days)' , value = '0' , inplace = True)"
   ]
  },
  {
   "cell_type": "code",
   "execution_count": 11,
   "id": "fc71ee05",
   "metadata": {},
   "outputs": [
    {
     "name": "stderr",
     "output_type": "stream",
     "text": [
      "<ipython-input-11-04a5da21b141>:1: SettingWithCopyWarning: \n",
      "A value is trying to be set on a copy of a slice from a DataFrame.\n",
      "Try using .loc[row_indexer,col_indexer] = value instead\n",
      "\n",
      "See the caveats in the documentation: https://pandas.pydata.org/pandas-docs/stable/user_guide/indexing.html#returning-a-view-versus-a-copy\n",
      "  dataset['loan_status'] = dataset['loan_status'].astype('int')\n"
     ]
    }
   ],
   "source": [
    "dataset['loan_status'] = dataset['loan_status'].astype('int')"
   ]
  },
  {
   "cell_type": "code",
   "execution_count": 12,
   "id": "b16773cf",
   "metadata": {},
   "outputs": [
    {
     "data": {
      "text/plain": [
       "1    2486808\n",
       "0     216622\n",
       "Name: loan_status, dtype: int64"
      ]
     },
     "execution_count": 12,
     "metadata": {},
     "output_type": "execute_result"
    }
   ],
   "source": [
    "dataset.loan_status.value_counts()"
   ]
  },
  {
   "cell_type": "code",
   "execution_count": 49,
   "id": "bcbfe7c5",
   "metadata": {},
   "outputs": [
    {
     "data": {
      "text/plain": [
       "<AxesSubplot:>"
      ]
     },
     "execution_count": 49,
     "metadata": {},
     "output_type": "execute_result"
    },
    {
     "data": {
      "image/png": "[encoded data removed]",
      "text/plain": [
       "<Figure size 432x288 with 1 Axes>"
      ]
     },
     "metadata": {
      "needs_background": "light"
     },
     "output_type": "display_data"
    }
   ],
   "source": [
    "dataset.loan_status.value_counts().plot.bar()"
   ]
  },
  {
   "cell_type": "markdown",
   "id": "a95c7f60",
   "metadata": {},
   "source": [
    "#### VERIFICATION_STATUS - Filter only loans with verified incomes"
   ]
  },
  {
   "cell_type": "code",
   "execution_count": 41,
   "id": "fa24586b",
   "metadata": {},
   "outputs": [
    {
     "name": "stdout",
     "output_type": "stream",
     "text": [
      "Int64Index([      1,       3,       5,       6,       7,      10,      11,\n",
      "                 14,      19,      20,\n",
      "            ...\n",
      "            2703412, 2703414, 2703415, 2703416, 2703417, 2703419, 2703420,\n",
      "            2703423, 2703427, 2703428],\n",
      "           dtype='int64', length=976870)\n"
     ]
    }
   ],
   "source": [
    "i = dataset[(dataset.verification_status == 'Not Verified')].index\n",
    "print(i)"
   ]
  },
  {
   "cell_type": "code",
   "execution_count": 42,
   "id": "50fdb2fe",
   "metadata": {},
   "outputs": [],
   "source": [
    "dataset = dataset.drop(i)"
   ]
  },
  {
   "cell_type": "code",
   "execution_count": 43,
   "id": "c4b130ed",
   "metadata": {},
   "outputs": [
    {
     "data": {
      "text/plain": [
       "1    1561039\n",
       "0     165521\n",
       "Name: loan_status, dtype: int64"
      ]
     },
     "execution_count": 43,
     "metadata": {},
     "output_type": "execute_result"
    }
   ],
   "source": [
    "dataset.loan_status.value_counts()"
   ]
  },
  {
   "cell_type": "markdown",
   "id": "faec9832",
   "metadata": {},
   "source": [
    "#### HOME_OWNERSHIP - Drop loans that have \"any\" as home ownership type then convert data to ints"
   ]
  },
  {
   "cell_type": "code",
   "execution_count": 67,
   "id": "53a4455d",
   "metadata": {},
   "outputs": [],
   "source": [
    "z = dataset[(dataset.home_ownership == 'ANY')].index\n",
    "\n",
    "#Replace Mortgage with 1\n",
    "dataset.home_ownership.replace(to_replace = 'MORTGAGE' , value = 1 , inplace = True)\n",
    "\n",
    "#Repalce Renters with 2\n",
    "dataset.home_ownership.replace(to_replace = 'RENT' , value = 2 , inplace = True)\n",
    "\n",
    "#Replace Owners with 3\n",
    "dataset.home_ownership.replace(to_replace = 'OWN' , value = 3 , inplace = True)"
   ]
  },
  {
   "cell_type": "code",
   "execution_count": 68,
   "id": "896caceb",
   "metadata": {},
   "outputs": [],
   "source": [
    "dataset = dataset.drop(z)"
   ]
  },
  {
   "cell_type": "code",
   "execution_count": 69,
   "id": "10c30b42",
   "metadata": {},
   "outputs": [],
   "source": [
    "dataset['home_ownership'] = dataset['home_ownership'].astype('int')"
   ]
  },
  {
   "cell_type": "markdown",
   "id": "0c0889c8",
   "metadata": {},
   "source": [
    "#### TERM - Show loan term as months (int)"
   ]
  },
  {
   "cell_type": "code",
   "execution_count": 73,
   "id": "9e21c5f5",
   "metadata": {},
   "outputs": [],
   "source": [
    "dataset['term'] = dataset['term'].astype(str)"
   ]
  },
  {
   "cell_type": "code",
   "execution_count": 74,
   "id": "47de9295",
   "metadata": {},
   "outputs": [],
   "source": [
    "dataset.term.replace(to_replace = \"36 months\" , value = '36' , inplace = True , regex = True)\n",
    "dataset.term.replace(to_replace = \"60 months\" , value = '60' , inplace = True , regex = True)"
   ]
  },
  {
   "cell_type": "code",
   "execution_count": 75,
   "id": "bbda1e66",
   "metadata": {},
   "outputs": [
    {
     "data": {
      "text/html": [
       "<div>\n",
       "<style scoped>\n",
       "    .dataframe tbody tr th:only-of-type {\n",
       "        vertical-align: middle;\n",
       "    }\n",
       "\n",
       "    .dataframe tbody tr th {\n",
       "        vertical-align: top;\n",
       "    }\n",
       "\n",
       "    .dataframe thead th {\n",
       "        text-align: right;\n",
       "    }\n",
       "</style>\n",
       "<table border=\"1\" class=\"dataframe\">\n",
       "  <thead>\n",
       "    <tr style=\"text-align: right;\">\n",
       "      <th></th>\n",
       "      <th>acc_open_past_24mths</th>\n",
       "      <th>addr_state</th>\n",
       "      <th>annual_inc</th>\n",
       "      <th>application_type</th>\n",
       "      <th>avg_cur_bal</th>\n",
       "      <th>emp_length</th>\n",
       "      <th>dti</th>\n",
       "      <th>grade</th>\n",
       "      <th>home_ownership</th>\n",
       "      <th>il_util</th>\n",
       "      <th>...</th>\n",
       "      <th>installment</th>\n",
       "      <th>issue_d</th>\n",
       "      <th>loan_status</th>\n",
       "      <th>loan_amnt</th>\n",
       "      <th>open_acc</th>\n",
       "      <th>revol_bal</th>\n",
       "      <th>revol_util</th>\n",
       "      <th>term</th>\n",
       "      <th>total_acc</th>\n",
       "      <th>verification_status</th>\n",
       "    </tr>\n",
       "  </thead>\n",
       "  <tbody>\n",
       "    <tr>\n",
       "      <th>0</th>\n",
       "      <td>2</td>\n",
       "      <td>AK</td>\n",
       "      <td>49800.0</td>\n",
       "      <td>Individual</td>\n",
       "      <td>28975</td>\n",
       "      <td>2 years</td>\n",
       "      <td>25.120001</td>\n",
       "      <td>C</td>\n",
       "      <td>1</td>\n",
       "      <td>NaN</td>\n",
       "      <td>...</td>\n",
       "      <td>413.459990</td>\n",
       "      <td>Aug-12</td>\n",
       "      <td>1</td>\n",
       "      <td>11875</td>\n",
       "      <td>8</td>\n",
       "      <td>22773</td>\n",
       "      <td>0.906</td>\n",
       "      <td>36</td>\n",
       "      <td>21</td>\n",
       "      <td>Source Verified</td>\n",
       "    </tr>\n",
       "    <tr>\n",
       "      <th>2</th>\n",
       "      <td>0</td>\n",
       "      <td>AK</td>\n",
       "      <td>34000.0</td>\n",
       "      <td>Individual</td>\n",
       "      <td>1656</td>\n",
       "      <td>10+ years</td>\n",
       "      <td>25.590000</td>\n",
       "      <td>A</td>\n",
       "      <td>2</td>\n",
       "      <td>NaN</td>\n",
       "      <td>...</td>\n",
       "      <td>73.040001</td>\n",
       "      <td>Sep-12</td>\n",
       "      <td>1</td>\n",
       "      <td>2300</td>\n",
       "      <td>3</td>\n",
       "      <td>0</td>\n",
       "      <td>0.000</td>\n",
       "      <td>36</td>\n",
       "      <td>14</td>\n",
       "      <td>Verified</td>\n",
       "    </tr>\n",
       "    <tr>\n",
       "      <th>4</th>\n",
       "      <td>2</td>\n",
       "      <td>AK</td>\n",
       "      <td>29000.0</td>\n",
       "      <td>Individual</td>\n",
       "      <td>2817</td>\n",
       "      <td>7 years</td>\n",
       "      <td>8.150000</td>\n",
       "      <td>B</td>\n",
       "      <td>2</td>\n",
       "      <td>NaN</td>\n",
       "      <td>...</td>\n",
       "      <td>131.620000</td>\n",
       "      <td>Sep-12</td>\n",
       "      <td>0</td>\n",
       "      <td>3900</td>\n",
       "      <td>4</td>\n",
       "      <td>5633</td>\n",
       "      <td>0.828</td>\n",
       "      <td>36</td>\n",
       "      <td>6</td>\n",
       "      <td>Source Verified</td>\n",
       "    </tr>\n",
       "    <tr>\n",
       "      <th>8</th>\n",
       "      <td>5</td>\n",
       "      <td>AK</td>\n",
       "      <td>110000.0</td>\n",
       "      <td>Individual</td>\n",
       "      <td>6629</td>\n",
       "      <td>5 years</td>\n",
       "      <td>25.870001</td>\n",
       "      <td>G</td>\n",
       "      <td>2</td>\n",
       "      <td>NaN</td>\n",
       "      <td>...</td>\n",
       "      <td>612.690000</td>\n",
       "      <td>Sep-12</td>\n",
       "      <td>1</td>\n",
       "      <td>21000</td>\n",
       "      <td>25</td>\n",
       "      <td>17811</td>\n",
       "      <td>0.604</td>\n",
       "      <td>60</td>\n",
       "      <td>62</td>\n",
       "      <td>Source Verified</td>\n",
       "    </tr>\n",
       "    <tr>\n",
       "      <th>9</th>\n",
       "      <td>4</td>\n",
       "      <td>AK</td>\n",
       "      <td>77000.0</td>\n",
       "      <td>Individual</td>\n",
       "      <td>3288</td>\n",
       "      <td>10+ years</td>\n",
       "      <td>15.280000</td>\n",
       "      <td>E</td>\n",
       "      <td>1</td>\n",
       "      <td>NaN</td>\n",
       "      <td>...</td>\n",
       "      <td>831.900020</td>\n",
       "      <td>Sep-12</td>\n",
       "      <td>1</td>\n",
       "      <td>30750</td>\n",
       "      <td>9</td>\n",
       "      <td>26330</td>\n",
       "      <td>0.798</td>\n",
       "      <td>60</td>\n",
       "      <td>23</td>\n",
       "      <td>Verified</td>\n",
       "    </tr>\n",
       "  </tbody>\n",
       "</table>\n",
       "<p>5 rows × 23 columns</p>\n",
       "</div>"
      ],
      "text/plain": [
       "   acc_open_past_24mths addr_state  annual_inc application_type  avg_cur_bal  \\\n",
       "0                     2         AK     49800.0       Individual        28975   \n",
       "2                     0         AK     34000.0       Individual         1656   \n",
       "4                     2         AK     29000.0       Individual         2817   \n",
       "8                     5         AK    110000.0       Individual         6629   \n",
       "9                     4         AK     77000.0       Individual         3288   \n",
       "\n",
       "  emp_length        dti grade  home_ownership  il_util  ...  installment  \\\n",
       "0    2 years  25.120001     C               1      NaN  ...   413.459990   \n",
       "2  10+ years  25.590000     A               2      NaN  ...    73.040001   \n",
       "4    7 years   8.150000     B               2      NaN  ...   131.620000   \n",
       "8    5 years  25.870001     G               2      NaN  ...   612.690000   \n",
       "9  10+ years  15.280000     E               1      NaN  ...   831.900020   \n",
       "\n",
       "   issue_d  loan_status  loan_amnt open_acc  revol_bal  revol_util  term  \\\n",
       "0   Aug-12            1      11875        8      22773       0.906    36   \n",
       "2   Sep-12            1       2300        3          0       0.000    36   \n",
       "4   Sep-12            0       3900        4       5633       0.828    36   \n",
       "8   Sep-12            1      21000       25      17811       0.604    60   \n",
       "9   Sep-12            1      30750        9      26330       0.798    60   \n",
       "\n",
       "   total_acc  verification_status  \n",
       "0         21      Source Verified  \n",
       "2         14             Verified  \n",
       "4          6      Source Verified  \n",
       "8         62      Source Verified  \n",
       "9         23             Verified  \n",
       "\n",
       "[5 rows x 23 columns]"
      ]
     },
     "execution_count": 75,
     "metadata": {},
     "output_type": "execute_result"
    }
   ],
   "source": [
    "dataset.head()"
   ]
  },
  {
   "cell_type": "code",
   "execution_count": 76,
   "id": "9aa5ab08",
   "metadata": {},
   "outputs": [],
   "source": [
    "dataset['term'] = dataset['term'].astype('int')"
   ]
  },
  {
   "cell_type": "markdown",
   "id": "6b4873d4",
   "metadata": {},
   "source": [
    "#### SUB_GRADE - Converting from alphabetical grading to numerical"
   ]
  },
  {
   "cell_type": "code",
   "execution_count": 77,
   "id": "f022f7a1",
   "metadata": {},
   "outputs": [],
   "source": [
    "dataset['grade'] = dataset['grade'].astype('string')"
   ]
  },
  {
   "cell_type": "code",
   "execution_count": 78,
   "id": "7af95ed9",
   "metadata": {},
   "outputs": [],
   "source": [
    "dataset.grade.replace(to_replace = 'A' , value = '1' , inplace = True)\n",
    "dataset.grade.replace(to_replace = 'B' , value = '2' , inplace = True)\n",
    "dataset.grade.replace(to_replace = 'C' , value = '3' , inplace = True)\n",
    "dataset.grade.replace(to_replace = 'D' , value = '4' , inplace = True)\n",
    "dataset.grade.replace(to_replace = 'E' , value = '5' , inplace = True)\n",
    "dataset.grade.replace(to_replace = 'F' , value = '6' , inplace = True)\n",
    "dataset.grade.replace(to_replace = 'G' , value = '7' , inplace = True)"
   ]
  },
  {
   "cell_type": "code",
   "execution_count": 79,
   "id": "f42da642",
   "metadata": {},
   "outputs": [],
   "source": [
    "dataset['grade'] = dataset['grade'].astype('int')"
   ]
  },
  {
   "cell_type": "markdown",
   "id": "316978d6",
   "metadata": {},
   "source": [
    "#### EMP_LENGTH - Converting from alphabetical to numerical"
   ]
  },
  {
   "cell_type": "code",
   "execution_count": 80,
   "id": "610694b5",
   "metadata": {},
   "outputs": [],
   "source": [
    "dataset.emp_length.replace(to_replace = '< 1 year' , value = '0' , inplace = True)\n",
    "dataset.emp_length.replace(to_replace = '1 year' , value = '1' , inplace = True)\n",
    "dataset.emp_length.replace(to_replace = '2 years' , value = '2' , inplace = True)\n",
    "dataset.emp_length.replace(to_replace = '3 years' , value = '3' , inplace = True)\n",
    "dataset.emp_length.replace(to_replace = '4 years' , value = '4' , inplace = True)\n",
    "dataset.emp_length.replace(to_replace = '5 years' , value = '5' , inplace = True)\n",
    "dataset.emp_length.replace(to_replace = '6 years' , value = '6' , inplace = True)\n",
    "dataset.emp_length.replace(to_replace = '7 years' , value = '7' , inplace = True)\n",
    "dataset.emp_length.replace(to_replace = '8 years' , value = '8' , inplace = True)\n",
    "dataset.emp_length.replace(to_replace = '9 years' , value = '9' , inplace = True)\n",
    "dataset.emp_length.replace(to_replace = '10+ years' , value = '10' , inplace = True)\n"
   ]
  },
  {
   "cell_type": "code",
   "execution_count": 85,
   "id": "644007b7",
   "metadata": {},
   "outputs": [
    {
     "ename": "ValueError",
     "evalue": "cannot convert float NaN to integer",
     "output_type": "error",
     "traceback": [
      "\u001b[1;31m---------------------------------------------------------------------------\u001b[0m",
      "\u001b[1;31mValueError\u001b[0m                                Traceback (most recent call last)",
      "\u001b[1;32m<ipython-input-85-b8d66df25fa6>\u001b[0m in \u001b[0;36m<module>\u001b[1;34m\u001b[0m\n\u001b[1;32m----> 1\u001b[1;33m \u001b[0mdataset\u001b[0m\u001b[1;33m[\u001b[0m\u001b[1;34m'emp_length'\u001b[0m\u001b[1;33m]\u001b[0m \u001b[1;33m=\u001b[0m \u001b[0mdataset\u001b[0m\u001b[1;33m[\u001b[0m\u001b[1;34m'emp_length'\u001b[0m\u001b[1;33m]\u001b[0m\u001b[1;33m.\u001b[0m\u001b[0mastype\u001b[0m\u001b[1;33m(\u001b[0m\u001b[1;34m'int'\u001b[0m\u001b[1;33m)\u001b[0m\u001b[1;33m\u001b[0m\u001b[1;33m\u001b[0m\u001b[0m\n\u001b[0m",
      "\u001b[1;32m~\\anaconda3\\lib\\site-packages\\pandas\\core\\generic.py\u001b[0m in \u001b[0;36mastype\u001b[1;34m(self, dtype, copy, errors)\u001b[0m\n\u001b[0;32m   5875\u001b[0m         \u001b[1;32melse\u001b[0m\u001b[1;33m:\u001b[0m\u001b[1;33m\u001b[0m\u001b[1;33m\u001b[0m\u001b[0m\n\u001b[0;32m   5876\u001b[0m             \u001b[1;31m# else, only a single dtype is given\u001b[0m\u001b[1;33m\u001b[0m\u001b[1;33m\u001b[0m\u001b[1;33m\u001b[0m\u001b[0m\n\u001b[1;32m-> 5877\u001b[1;33m             \u001b[0mnew_data\u001b[0m \u001b[1;33m=\u001b[0m \u001b[0mself\u001b[0m\u001b[1;33m.\u001b[0m\u001b[0m_mgr\u001b[0m\u001b[1;33m.\u001b[0m\u001b[0mastype\u001b[0m\u001b[1;33m(\u001b[0m\u001b[0mdtype\u001b[0m\u001b[1;33m=\u001b[0m\u001b[0mdtype\u001b[0m\u001b[1;33m,\u001b[0m \u001b[0mcopy\u001b[0m\u001b[1;33m=\u001b[0m\u001b[0mcopy\u001b[0m\u001b[1;33m,\u001b[0m \u001b[0merrors\u001b[0m\u001b[1;33m=\u001b[0m\u001b[0merrors\u001b[0m\u001b[1;33m)\u001b[0m\u001b[1;33m\u001b[0m\u001b[1;33m\u001b[0m\u001b[0m\n\u001b[0m\u001b[0;32m   5878\u001b[0m             \u001b[1;32mreturn\u001b[0m \u001b[0mself\u001b[0m\u001b[1;33m.\u001b[0m\u001b[0m_constructor\u001b[0m\u001b[1;33m(\u001b[0m\u001b[0mnew_data\u001b[0m\u001b[1;33m)\u001b[0m\u001b[1;33m.\u001b[0m\u001b[0m__finalize__\u001b[0m\u001b[1;33m(\u001b[0m\u001b[0mself\u001b[0m\u001b[1;33m,\u001b[0m \u001b[0mmethod\u001b[0m\u001b[1;33m=\u001b[0m\u001b[1;34m\"astype\"\u001b[0m\u001b[1;33m)\u001b[0m\u001b[1;33m\u001b[0m\u001b[1;33m\u001b[0m\u001b[0m\n\u001b[0;32m   5879\u001b[0m \u001b[1;33m\u001b[0m\u001b[0m\n",
      "\u001b[1;32m~\\anaconda3\\lib\\site-packages\\pandas\\core\\internals\\managers.py\u001b[0m in \u001b[0;36mastype\u001b[1;34m(self, dtype, copy, errors)\u001b[0m\n\u001b[0;32m    629\u001b[0m         \u001b[0mself\u001b[0m\u001b[1;33m,\u001b[0m \u001b[0mdtype\u001b[0m\u001b[1;33m,\u001b[0m \u001b[0mcopy\u001b[0m\u001b[1;33m:\u001b[0m \u001b[0mbool\u001b[0m \u001b[1;33m=\u001b[0m \u001b[1;32mFalse\u001b[0m\u001b[1;33m,\u001b[0m \u001b[0merrors\u001b[0m\u001b[1;33m:\u001b[0m \u001b[0mstr\u001b[0m \u001b[1;33m=\u001b[0m \u001b[1;34m\"raise\"\u001b[0m\u001b[1;33m\u001b[0m\u001b[1;33m\u001b[0m\u001b[0m\n\u001b[0;32m    630\u001b[0m     ) -> \"BlockManager\":\n\u001b[1;32m--> 631\u001b[1;33m         \u001b[1;32mreturn\u001b[0m \u001b[0mself\u001b[0m\u001b[1;33m.\u001b[0m\u001b[0mapply\u001b[0m\u001b[1;33m(\u001b[0m\u001b[1;34m\"astype\"\u001b[0m\u001b[1;33m,\u001b[0m \u001b[0mdtype\u001b[0m\u001b[1;33m=\u001b[0m\u001b[0mdtype\u001b[0m\u001b[1;33m,\u001b[0m \u001b[0mcopy\u001b[0m\u001b[1;33m=\u001b[0m\u001b[0mcopy\u001b[0m\u001b[1;33m,\u001b[0m \u001b[0merrors\u001b[0m\u001b[1;33m=\u001b[0m\u001b[0merrors\u001b[0m\u001b[1;33m)\u001b[0m\u001b[1;33m\u001b[0m\u001b[1;33m\u001b[0m\u001b[0m\n\u001b[0m\u001b[0;32m    632\u001b[0m \u001b[1;33m\u001b[0m\u001b[0m\n\u001b[0;32m    633\u001b[0m     def convert(\n",
      "\u001b[1;32m~\\anaconda3\\lib\\site-packages\\pandas\\core\\internals\\managers.py\u001b[0m in \u001b[0;36mapply\u001b[1;34m(self, f, align_keys, ignore_failures, **kwargs)\u001b[0m\n\u001b[0;32m    425\u001b[0m                     \u001b[0mapplied\u001b[0m \u001b[1;33m=\u001b[0m \u001b[0mb\u001b[0m\u001b[1;33m.\u001b[0m\u001b[0mapply\u001b[0m\u001b[1;33m(\u001b[0m\u001b[0mf\u001b[0m\u001b[1;33m,\u001b[0m \u001b[1;33m**\u001b[0m\u001b[0mkwargs\u001b[0m\u001b[1;33m)\u001b[0m\u001b[1;33m\u001b[0m\u001b[1;33m\u001b[0m\u001b[0m\n\u001b[0;32m    426\u001b[0m                 \u001b[1;32melse\u001b[0m\u001b[1;33m:\u001b[0m\u001b[1;33m\u001b[0m\u001b[1;33m\u001b[0m\u001b[0m\n\u001b[1;32m--> 427\u001b[1;33m                     \u001b[0mapplied\u001b[0m \u001b[1;33m=\u001b[0m \u001b[0mgetattr\u001b[0m\u001b[1;33m(\u001b[0m\u001b[0mb\u001b[0m\u001b[1;33m,\u001b[0m \u001b[0mf\u001b[0m\u001b[1;33m)\u001b[0m\u001b[1;33m(\u001b[0m\u001b[1;33m**\u001b[0m\u001b[0mkwargs\u001b[0m\u001b[1;33m)\u001b[0m\u001b[1;33m\u001b[0m\u001b[1;33m\u001b[0m\u001b[0m\n\u001b[0m\u001b[0;32m    428\u001b[0m             \u001b[1;32mexcept\u001b[0m \u001b[1;33m(\u001b[0m\u001b[0mTypeError\u001b[0m\u001b[1;33m,\u001b[0m \u001b[0mNotImplementedError\u001b[0m\u001b[1;33m)\u001b[0m\u001b[1;33m:\u001b[0m\u001b[1;33m\u001b[0m\u001b[1;33m\u001b[0m\u001b[0m\n\u001b[0;32m    429\u001b[0m                 \u001b[1;32mif\u001b[0m \u001b[1;32mnot\u001b[0m \u001b[0mignore_failures\u001b[0m\u001b[1;33m:\u001b[0m\u001b[1;33m\u001b[0m\u001b[1;33m\u001b[0m\u001b[0m\n",
      "\u001b[1;32m~\\anaconda3\\lib\\site-packages\\pandas\\core\\internals\\blocks.py\u001b[0m in \u001b[0;36mastype\u001b[1;34m(self, dtype, copy, errors)\u001b[0m\n\u001b[0;32m    671\u001b[0m             \u001b[0mvals1d\u001b[0m \u001b[1;33m=\u001b[0m \u001b[0mvalues\u001b[0m\u001b[1;33m.\u001b[0m\u001b[0mravel\u001b[0m\u001b[1;33m(\u001b[0m\u001b[1;33m)\u001b[0m\u001b[1;33m\u001b[0m\u001b[1;33m\u001b[0m\u001b[0m\n\u001b[0;32m    672\u001b[0m             \u001b[1;32mtry\u001b[0m\u001b[1;33m:\u001b[0m\u001b[1;33m\u001b[0m\u001b[1;33m\u001b[0m\u001b[0m\n\u001b[1;32m--> 673\u001b[1;33m                 \u001b[0mvalues\u001b[0m \u001b[1;33m=\u001b[0m \u001b[0mastype_nansafe\u001b[0m\u001b[1;33m(\u001b[0m\u001b[0mvals1d\u001b[0m\u001b[1;33m,\u001b[0m \u001b[0mdtype\u001b[0m\u001b[1;33m,\u001b[0m \u001b[0mcopy\u001b[0m\u001b[1;33m=\u001b[0m\u001b[1;32mTrue\u001b[0m\u001b[1;33m)\u001b[0m\u001b[1;33m\u001b[0m\u001b[1;33m\u001b[0m\u001b[0m\n\u001b[0m\u001b[0;32m    674\u001b[0m             \u001b[1;32mexcept\u001b[0m \u001b[1;33m(\u001b[0m\u001b[0mValueError\u001b[0m\u001b[1;33m,\u001b[0m \u001b[0mTypeError\u001b[0m\u001b[1;33m)\u001b[0m\u001b[1;33m:\u001b[0m\u001b[1;33m\u001b[0m\u001b[1;33m\u001b[0m\u001b[0m\n\u001b[0;32m    675\u001b[0m                 \u001b[1;31m# e.g. astype_nansafe can fail on object-dtype of strings\u001b[0m\u001b[1;33m\u001b[0m\u001b[1;33m\u001b[0m\u001b[1;33m\u001b[0m\u001b[0m\n",
      "\u001b[1;32m~\\anaconda3\\lib\\site-packages\\pandas\\core\\dtypes\\cast.py\u001b[0m in \u001b[0;36mastype_nansafe\u001b[1;34m(arr, dtype, copy, skipna)\u001b[0m\n\u001b[0;32m   1072\u001b[0m         \u001b[1;31m# work around NumPy brokenness, #1987\u001b[0m\u001b[1;33m\u001b[0m\u001b[1;33m\u001b[0m\u001b[1;33m\u001b[0m\u001b[0m\n\u001b[0;32m   1073\u001b[0m         \u001b[1;32mif\u001b[0m \u001b[0mnp\u001b[0m\u001b[1;33m.\u001b[0m\u001b[0missubdtype\u001b[0m\u001b[1;33m(\u001b[0m\u001b[0mdtype\u001b[0m\u001b[1;33m.\u001b[0m\u001b[0mtype\u001b[0m\u001b[1;33m,\u001b[0m \u001b[0mnp\u001b[0m\u001b[1;33m.\u001b[0m\u001b[0minteger\u001b[0m\u001b[1;33m)\u001b[0m\u001b[1;33m:\u001b[0m\u001b[1;33m\u001b[0m\u001b[1;33m\u001b[0m\u001b[0m\n\u001b[1;32m-> 1074\u001b[1;33m             \u001b[1;32mreturn\u001b[0m \u001b[0mlib\u001b[0m\u001b[1;33m.\u001b[0m\u001b[0mastype_intsafe\u001b[0m\u001b[1;33m(\u001b[0m\u001b[0marr\u001b[0m\u001b[1;33m.\u001b[0m\u001b[0mravel\u001b[0m\u001b[1;33m(\u001b[0m\u001b[1;33m)\u001b[0m\u001b[1;33m,\u001b[0m \u001b[0mdtype\u001b[0m\u001b[1;33m)\u001b[0m\u001b[1;33m.\u001b[0m\u001b[0mreshape\u001b[0m\u001b[1;33m(\u001b[0m\u001b[0marr\u001b[0m\u001b[1;33m.\u001b[0m\u001b[0mshape\u001b[0m\u001b[1;33m)\u001b[0m\u001b[1;33m\u001b[0m\u001b[1;33m\u001b[0m\u001b[0m\n\u001b[0m\u001b[0;32m   1075\u001b[0m \u001b[1;33m\u001b[0m\u001b[0m\n\u001b[0;32m   1076\u001b[0m         \u001b[1;31m# if we have a datetime/timedelta array of objects\u001b[0m\u001b[1;33m\u001b[0m\u001b[1;33m\u001b[0m\u001b[1;33m\u001b[0m\u001b[0m\n",
      "\u001b[1;32mpandas\\_libs\\lib.pyx\u001b[0m in \u001b[0;36mpandas._libs.lib.astype_intsafe\u001b[1;34m()\u001b[0m\n",
      "\u001b[1;31mValueError\u001b[0m: cannot convert float NaN to integer"
     ]
    }
   ],
   "source": [
    "dataset['emp_length'] = dataset['emp_length'].astype('int')"
   ]
  },
  {
   "cell_type": "markdown",
   "id": "7cc2b91e",
   "metadata": {},
   "source": [
    "#### ISSUE_D - Converting to datetime format"
   ]
  },
  {
   "cell_type": "markdown",
   "id": "5e6d525d",
   "metadata": {},
   "source": [
    "### Export to CSV"
   ]
  },
  {
   "cell_type": "code",
   "execution_count": 83,
   "id": "b7194c73",
   "metadata": {},
   "outputs": [
    {
     "data": {
      "text/html": [
       "<div>\n",
       "<style scoped>\n",
       "    .dataframe tbody tr th:only-of-type {\n",
       "        vertical-align: middle;\n",
       "    }\n",
       "\n",
       "    .dataframe tbody tr th {\n",
       "        vertical-align: top;\n",
       "    }\n",
       "\n",
       "    .dataframe thead th {\n",
       "        text-align: right;\n",
       "    }\n",
       "</style>\n",
       "<table border=\"1\" class=\"dataframe\">\n",
       "  <thead>\n",
       "    <tr style=\"text-align: right;\">\n",
       "      <th></th>\n",
       "      <th>acc_open_past_24mths</th>\n",
       "      <th>addr_state</th>\n",
       "      <th>annual_inc</th>\n",
       "      <th>application_type</th>\n",
       "      <th>avg_cur_bal</th>\n",
       "      <th>emp_length</th>\n",
       "      <th>dti</th>\n",
       "      <th>grade</th>\n",
       "      <th>home_ownership</th>\n",
       "      <th>il_util</th>\n",
       "      <th>...</th>\n",
       "      <th>installment</th>\n",
       "      <th>issue_d</th>\n",
       "      <th>loan_status</th>\n",
       "      <th>loan_amnt</th>\n",
       "      <th>open_acc</th>\n",
       "      <th>revol_bal</th>\n",
       "      <th>revol_util</th>\n",
       "      <th>term</th>\n",
       "      <th>total_acc</th>\n",
       "      <th>verification_status</th>\n",
       "    </tr>\n",
       "  </thead>\n",
       "  <tbody>\n",
       "    <tr>\n",
       "      <th>0</th>\n",
       "      <td>2</td>\n",
       "      <td>AK</td>\n",
       "      <td>49800.0</td>\n",
       "      <td>Individual</td>\n",
       "      <td>28975</td>\n",
       "      <td>2</td>\n",
       "      <td>25.120001</td>\n",
       "      <td>3</td>\n",
       "      <td>1</td>\n",
       "      <td>NaN</td>\n",
       "      <td>...</td>\n",
       "      <td>413.459990</td>\n",
       "      <td>Aug-12</td>\n",
       "      <td>1</td>\n",
       "      <td>11875</td>\n",
       "      <td>8</td>\n",
       "      <td>22773</td>\n",
       "      <td>0.906</td>\n",
       "      <td>36</td>\n",
       "      <td>21</td>\n",
       "      <td>Source Verified</td>\n",
       "    </tr>\n",
       "    <tr>\n",
       "      <th>2</th>\n",
       "      <td>0</td>\n",
       "      <td>AK</td>\n",
       "      <td>34000.0</td>\n",
       "      <td>Individual</td>\n",
       "      <td>1656</td>\n",
       "      <td>10</td>\n",
       "      <td>25.590000</td>\n",
       "      <td>1</td>\n",
       "      <td>2</td>\n",
       "      <td>NaN</td>\n",
       "      <td>...</td>\n",
       "      <td>73.040001</td>\n",
       "      <td>Sep-12</td>\n",
       "      <td>1</td>\n",
       "      <td>2300</td>\n",
       "      <td>3</td>\n",
       "      <td>0</td>\n",
       "      <td>0.000</td>\n",
       "      <td>36</td>\n",
       "      <td>14</td>\n",
       "      <td>Verified</td>\n",
       "    </tr>\n",
       "    <tr>\n",
       "      <th>4</th>\n",
       "      <td>2</td>\n",
       "      <td>AK</td>\n",
       "      <td>29000.0</td>\n",
       "      <td>Individual</td>\n",
       "      <td>2817</td>\n",
       "      <td>7</td>\n",
       "      <td>8.150000</td>\n",
       "      <td>2</td>\n",
       "      <td>2</td>\n",
       "      <td>NaN</td>\n",
       "      <td>...</td>\n",
       "      <td>131.620000</td>\n",
       "      <td>Sep-12</td>\n",
       "      <td>0</td>\n",
       "      <td>3900</td>\n",
       "      <td>4</td>\n",
       "      <td>5633</td>\n",
       "      <td>0.828</td>\n",
       "      <td>36</td>\n",
       "      <td>6</td>\n",
       "      <td>Source Verified</td>\n",
       "    </tr>\n",
       "    <tr>\n",
       "      <th>8</th>\n",
       "      <td>5</td>\n",
       "      <td>AK</td>\n",
       "      <td>110000.0</td>\n",
       "      <td>Individual</td>\n",
       "      <td>6629</td>\n",
       "      <td>5</td>\n",
       "      <td>25.870001</td>\n",
       "      <td>7</td>\n",
       "      <td>2</td>\n",
       "      <td>NaN</td>\n",
       "      <td>...</td>\n",
       "      <td>612.690000</td>\n",
       "      <td>Sep-12</td>\n",
       "      <td>1</td>\n",
       "      <td>21000</td>\n",
       "      <td>25</td>\n",
       "      <td>17811</td>\n",
       "      <td>0.604</td>\n",
       "      <td>60</td>\n",
       "      <td>62</td>\n",
       "      <td>Source Verified</td>\n",
       "    </tr>\n",
       "    <tr>\n",
       "      <th>9</th>\n",
       "      <td>4</td>\n",
       "      <td>AK</td>\n",
       "      <td>77000.0</td>\n",
       "      <td>Individual</td>\n",
       "      <td>3288</td>\n",
       "      <td>10</td>\n",
       "      <td>15.280000</td>\n",
       "      <td>5</td>\n",
       "      <td>1</td>\n",
       "      <td>NaN</td>\n",
       "      <td>...</td>\n",
       "      <td>831.900020</td>\n",
       "      <td>Sep-12</td>\n",
       "      <td>1</td>\n",
       "      <td>30750</td>\n",
       "      <td>9</td>\n",
       "      <td>26330</td>\n",
       "      <td>0.798</td>\n",
       "      <td>60</td>\n",
       "      <td>23</td>\n",
       "      <td>Verified</td>\n",
       "    </tr>\n",
       "  </tbody>\n",
       "</table>\n",
       "<p>5 rows × 23 columns</p>\n",
       "</div>"
      ],
      "text/plain": [
       "   acc_open_past_24mths addr_state  annual_inc application_type  avg_cur_bal  \\\n",
       "0                     2         AK     49800.0       Individual        28975   \n",
       "2                     0         AK     34000.0       Individual         1656   \n",
       "4                     2         AK     29000.0       Individual         2817   \n",
       "8                     5         AK    110000.0       Individual         6629   \n",
       "9                     4         AK     77000.0       Individual         3288   \n",
       "\n",
       "  emp_length        dti  grade  home_ownership  il_util  ...  installment  \\\n",
       "0          2  25.120001      3               1      NaN  ...   413.459990   \n",
       "2         10  25.590000      1               2      NaN  ...    73.040001   \n",
       "4          7   8.150000      2               2      NaN  ...   131.620000   \n",
       "8          5  25.870001      7               2      NaN  ...   612.690000   \n",
       "9         10  15.280000      5               1      NaN  ...   831.900020   \n",
       "\n",
       "   issue_d  loan_status  loan_amnt open_acc  revol_bal  revol_util  term  \\\n",
       "0   Aug-12            1      11875        8      22773       0.906    36   \n",
       "2   Sep-12            1       2300        3          0       0.000    36   \n",
       "4   Sep-12            0       3900        4       5633       0.828    36   \n",
       "8   Sep-12            1      21000       25      17811       0.604    60   \n",
       "9   Sep-12            1      30750        9      26330       0.798    60   \n",
       "\n",
       "   total_acc  verification_status  \n",
       "0         21      Source Verified  \n",
       "2         14             Verified  \n",
       "4          6      Source Verified  \n",
       "8         62      Source Verified  \n",
       "9         23             Verified  \n",
       "\n",
       "[5 rows x 23 columns]"
      ]
     },
     "execution_count": 83,
     "metadata": {},
     "output_type": "execute_result"
    }
   ],
   "source": [
    "dataset.head()"
   ]
  },
  {
   "cell_type": "code",
   "execution_count": 84,
   "id": "bed9a333",
   "metadata": {},
   "outputs": [
    {
     "name": "stdout",
     "output_type": "stream",
     "text": [
      "<class 'pandas.core.frame.DataFrame'>\n",
      "Int64Index: 1605936 entries, 0 to 2703429\n",
      "Data columns (total 23 columns):\n",
      " #   Column                Non-Null Count    Dtype  \n",
      "---  ------                --------------    -----  \n",
      " 0   acc_open_past_24mths  1605936 non-null  int64  \n",
      " 1   addr_state            1605936 non-null  object \n",
      " 2   annual_inc            1605936 non-null  float64\n",
      " 3   application_type      1605936 non-null  object \n",
      " 4   avg_cur_bal           1605936 non-null  int64  \n",
      " 5   emp_length            1506079 non-null  object \n",
      " 6   dti                   1605936 non-null  float64\n",
      " 7   grade                 1605936 non-null  int32  \n",
      " 8   home_ownership        1605936 non-null  int32  \n",
      " 9   il_util               889337 non-null   float64\n",
      " 10  inq_fi                1036844 non-null  float64\n",
      " 11  inq_last_12m          1036844 non-null  float64\n",
      " 12  int_rate              1605936 non-null  float64\n",
      " 13  installment           1605936 non-null  float64\n",
      " 14  issue_d               1605936 non-null  object \n",
      " 15  loan_status           1605936 non-null  int32  \n",
      " 16  loan_amnt             1605936 non-null  int64  \n",
      " 17  open_acc              1605936 non-null  int64  \n",
      " 18  revol_bal             1605936 non-null  int64  \n",
      " 19  revol_util            1604661 non-null  float64\n",
      " 20  term                  1605936 non-null  int32  \n",
      " 21  total_acc             1605936 non-null  int64  \n",
      " 22  verification_status   1605936 non-null  object \n",
      "dtypes: float64(8), int32(4), int64(6), object(5)\n",
      "memory usage: 301.8+ MB\n"
     ]
    }
   ],
   "source": [
    "dataset.info()"
   ]
  },
  {
   "cell_type": "code",
   "execution_count": 82,
   "id": "2785a391",
   "metadata": {},
   "outputs": [],
   "source": [
    "dataset.reset_index(drop = True , inplace=True)"
   ]
  },
  {
   "cell_type": "code",
   "execution_count": 70,
   "id": "c212f1b5",
   "metadata": {},
   "outputs": [
    {
     "data": {
      "text/plain": [
       "(1605936, 23)"
      ]
     },
     "execution_count": 70,
     "metadata": {},
     "output_type": "execute_result"
    }
   ],
   "source": [
    "dataset.shape"
   ]
  },
  {
   "cell_type": "code",
   "execution_count": 84,
   "id": "7913b976",
   "metadata": {},
   "outputs": [],
   "source": [
    "dataset.to_csv('Data v2.csv' , index = False)"
   ]
  },
  {
   "cell_type": "code",
   "execution_count": 71,
   "id": "12b91250",
   "metadata": {},
   "outputs": [
    {
     "data": {
      "text/plain": [
       "1    1445597\n",
       "0     160339\n",
       "Name: loan_status, dtype: int64"
      ]
     },
     "execution_count": 71,
     "metadata": {},
     "output_type": "execute_result"
    }
   ],
   "source": [
    "dataset.loan_status.value_counts()"
   ]
  },
  {
   "cell_type": "code",
   "execution_count": null,
   "id": "74133b1f",
   "metadata": {},
   "outputs": [],
   "source": []
  }
 ],
 "metadata": {
  "kernelspec": {
   "display_name": "Python 3",
   "language": "python",
   "name": "python3"
  }
 },
 "nbformat": 4,
 "nbformat_minor": 5
}
